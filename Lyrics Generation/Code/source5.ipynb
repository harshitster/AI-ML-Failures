{
 "cells": [
  {
   "cell_type": "code",
   "execution_count": 523,
   "metadata": {},
   "outputs": [],
   "source": [
    "import os\n",
    "import numpy as np\n",
    "import pandas as pd\n",
    "from tqdm import tqdm\n",
    "import re"
   ]
  },
  {
   "cell_type": "code",
   "execution_count": 524,
   "metadata": {},
   "outputs": [],
   "source": [
    "data = '/Applications/ML projects/Failures/Song Lyrics/Dataset - 2/archive/csv'"
   ]
  },
  {
   "cell_type": "code",
   "execution_count": 525,
   "metadata": {},
   "outputs": [],
   "source": [
    "def readLyrics(data):\n",
    "  lyrics = []\n",
    "  for CSV_FILE in tqdm(os.listdir(data)):\n",
    "    CSV_PATH = os.path.join(data, CSV_FILE)\n",
    "    df = pd.read_csv(CSV_PATH)\n",
    "    df = df.dropna()\n",
    "    dfLyrics = df['Lyric'].values\n",
    "    for lyric in dfLyrics:\n",
    "      lyrics.append(lyric)\n",
    "\n",
    "  return lyrics"
   ]
  },
  {
   "cell_type": "code",
   "execution_count": 526,
   "metadata": {},
   "outputs": [
    {
     "name": "stderr",
     "output_type": "stream",
     "text": [
      "100%|██████████| 21/21 [00:00<00:00, 84.95it/s]\n"
     ]
    }
   ],
   "source": [
    "lyrics = readLyrics(data)"
   ]
  },
  {
   "cell_type": "code",
   "execution_count": 527,
   "metadata": {},
   "outputs": [
    {
     "name": "stdout",
     "output_type": "stream",
     "text": [
      "one one one one one   talkin' in my sleep at night makin' myself crazy out of my mind out of my mind wrote it down and read it out hopin' it would save me too many times too many times  refrain my love he makes me feel like nobody else nobody else but my love he doesn't love me so i tell myself i tell myself  pre one don't pick up the phone you know he's only callin' 'cause he's drunk and alone two don't let him in you'll have to kick him out again three don't be his friend you know you're gonna wake up in his bed in the morning and if you're under him you ain't gettin' over him   i got new rules i count 'em i got new rules i count 'em i gotta tell them to myself i got new rules i count 'em i gotta tell them to myself   i keep pushin' forwards but he keeps pullin' me backwards nowhere to turn no way nowhere to turn no now i'm standin' back from it i finally see the pattern i never learn i never learn  refrain but my love he doesn't love me so i tell myself i tell myself i do i do i do  pre one don't pick up the phone you know he's only callin' 'cause he's drunk and alone two don't let him in you'll have to kick him out again three don't be his friend you know you're gonna wake up in his bed in the morning and if you're under him you ain't gettin' over him   i got new rules i count 'em i got new rules i count 'em i gotta tell them to myself i got new rules i count 'em i gotta tell them to myself   practice makes perfect i'm still tryna learn it by heart i got new rules i count 'em eat sleep and breathe it rehearse and repeat it 'cause i i got new  pre one don't pick up the phone yeah you know he's only callin' 'cause he's drunk and alone alone two don't let him in uhooh you'll have to kick him out again again three don't be his friend you know you're gonna wake up in his bed in the morning and if you're under him you ain't gettin' over him   i got new rules i count 'em i got new rules i count 'em whoaooh whoaooh whoa i gotta tell them to myself i got new rules i count 'em baby you know i count 'em i gotta tell them to myself   don't let him in don't let him in don't don't don't don't don't be his friend don't be his friend don't don't don't don't don't let him in don't let him in don't don't don't don't don't be his friend don't be his friend don't don't don't don't you're gettin' over him\n"
     ]
    }
   ],
   "source": [
    "print(lyrics[0])"
   ]
  },
  {
   "cell_type": "code",
   "execution_count": 528,
   "metadata": {},
   "outputs": [],
   "source": [
    "def preprocessLyrics(lyrics):\n",
    "    for i in tqdm(range(len(lyrics))):\n",
    "        lyric = lyrics[i]\n",
    "        lyric = re.sub(r'[^a-zA-Z]\\s', '', lyric)\n",
    "        lyric = \" \".join([word for word in lyric.split() if len(word) > 1])\n",
    "        lyrics[i] = lyric"
   ]
  },
  {
   "cell_type": "code",
   "execution_count": 529,
   "metadata": {},
   "outputs": [
    {
     "name": "stderr",
     "output_type": "stream",
     "text": [
      "  0%|          | 0/3422 [00:00<?, ?it/s]"
     ]
    },
    {
     "name": "stderr",
     "output_type": "stream",
     "text": [
      "100%|██████████| 3422/3422 [00:00<00:00, 9089.51it/s]\n"
     ]
    }
   ],
   "source": [
    "preprocessLyrics(lyrics)"
   ]
  },
  {
   "cell_type": "code",
   "execution_count": 530,
   "metadata": {},
   "outputs": [
    {
     "name": "stdout",
     "output_type": "stream",
     "text": [
      "one one one one one talkinin my sleep at night makinmyself crazy out of my mind out of my mind wrote it down and read it out hopinit would save me too many times too many timesrefrain my love he makes me feel like nobody else nobody else but my love he doesn't love me so tell myself tell myselfpre one don't pick up the phone you know he's only callin'cause he's drunk and alone two don't let him in you'll have to kick him out again three don't be his friend you know you're gonna wake up in his bed in the morning and if you're under him you ain't gettinover him got new rules count 'em got new rules count 'em gotta tell them to myself got new rules count 'em gotta tell them to myself keep pushinforwards but he keeps pullinme backwards nowhere to turn no way nowhere to turn no now i'm standinback from it finally see the pattern never learn never learnrefrain but my love he doesn't love me so tell myself tell myself do do dopre one don't pick up the phone you know he's only callin'cause he's drunk and alone two don't let him in you'll have to kick him out again three don't be his friend you know you're gonna wake up in his bed in the morning and if you're under him you ain't gettinover him got new rules count 'em got new rules count 'em gotta tell them to myself got new rules count 'em gotta tell them to myself practice makes perfect i'm still tryna learn it by heart got new rules count 'em eat sleep and breathe it rehearse and repeat it 'cause got newpre one don't pick up the phone yeah you know he's only callin'cause he's drunk and alone alone two don't let him in uhooh you'll have to kick him out again again three don't be his friend you know you're gonna wake up in his bed in the morning and if you're under him you ain't gettinover him got new rules count 'em got new rules count 'em whoaooh whoaooh whoa gotta tell them to myself got new rules count 'em baby you know count 'em gotta tell them to myself don't let him in don't let him in don't don't don't don't don't be his friend don't be his friend don't don't don't don't don't let him in don't let him in don't don't don't don't don't be his friend don't be his friend don't don't don't don't you're gettinover him\n"
     ]
    }
   ],
   "source": [
    "print(lyrics[0])"
   ]
  },
  {
   "cell_type": "code",
   "execution_count": 531,
   "metadata": {},
   "outputs": [],
   "source": [
    "def getVocab(lyrics):\n",
    "    hashmap = {}\n",
    "    for lyric in tqdm(lyrics):\n",
    "        chars = list(lyric)\n",
    "        for char in chars:\n",
    "            if char not in hashmap:\n",
    "                hashmap[char] = 1\n",
    "            else:\n",
    "                continue\n",
    "    return list(hashmap.keys())"
   ]
  },
  {
   "cell_type": "code",
   "execution_count": 532,
   "metadata": {},
   "outputs": [
    {
     "name": "stderr",
     "output_type": "stream",
     "text": [
      "  0%|          | 0/3422 [00:00<?, ?it/s]"
     ]
    },
    {
     "name": "stderr",
     "output_type": "stream",
     "text": [
      "100%|██████████| 3422/3422 [00:00<00:00, 11133.03it/s]\n"
     ]
    }
   ],
   "source": [
    "vocab = getVocab(lyrics)"
   ]
  },
  {
   "cell_type": "code",
   "execution_count": 533,
   "metadata": {},
   "outputs": [],
   "source": [
    "START_TOKEN = '<'\n",
    "PAD_TOKEN = '$'\n",
    "END_TOKEN = '>'\n",
    "\n",
    "vocab.insert(0, START_TOKEN)\n",
    "vocab.append(PAD_TOKEN)\n",
    "vocab.append(END_TOKEN)"
   ]
  },
  {
   "cell_type": "code",
   "execution_count": 534,
   "metadata": {},
   "outputs": [],
   "source": [
    "index_to_char = {k:v for k, v in enumerate(vocab)}\n",
    "char_to_index = {v:k for k, v in enumerate(vocab)}"
   ]
  },
  {
   "cell_type": "code",
   "execution_count": 535,
   "metadata": {},
   "outputs": [
    {
     "name": "stdout",
     "output_type": "stream",
     "text": [
      "Mean:  1959.979544126242\n",
      "Standard Deviation:  1488.036303883205\n"
     ]
    }
   ],
   "source": [
    "import statistics\n",
    "lengths = [len(lyric) for lyric in lyrics]\n",
    "mean_length = statistics.mean(lengths)\n",
    "std_dev = statistics.stdev(lengths)\n",
    "print(\"Mean: \", mean_length)\n",
    "print(\"Standard Deviation: \", std_dev)"
   ]
  },
  {
   "cell_type": "code",
   "execution_count": 536,
   "metadata": {},
   "outputs": [],
   "source": [
    "def filterLyrics(lyrics, min=1499, max=2501):\n",
    "    filtered_lyrics = []\n",
    "    for lyric in tqdm(lyrics):\n",
    "        if len(lyric) > min and len(lyric) < max:\n",
    "            filtered_lyrics.append(lyric)\n",
    "    return filtered_lyrics"
   ]
  },
  {
   "cell_type": "code",
   "execution_count": 537,
   "metadata": {},
   "outputs": [
    {
     "name": "stderr",
     "output_type": "stream",
     "text": [
      "100%|██████████| 3422/3422 [00:00<00:00, 1454932.42it/s]\n"
     ]
    }
   ],
   "source": [
    "filtered_lyrics = filterLyrics(lyrics)"
   ]
  },
  {
   "cell_type": "code",
   "execution_count": 538,
   "metadata": {},
   "outputs": [
    {
     "name": "stdout",
     "output_type": "stream",
     "text": [
      "Mean:  1924.6507064364207\n",
      "Standard Deviation:  286.28491178941846\n"
     ]
    }
   ],
   "source": [
    "lengths = [len(lyric) for lyric in filtered_lyrics]\n",
    "mean_length = statistics.mean(lengths)\n",
    "std_dev = statistics.stdev(lengths)\n",
    "print(\"Mean: \", mean_length)\n",
    "print(\"Standard Deviation: \", std_dev)"
   ]
  },
  {
   "cell_type": "code",
   "execution_count": 539,
   "metadata": {},
   "outputs": [],
   "source": [
    "import random\n",
    "random.shuffle(filtered_lyrics)\n",
    "LYRICS = filtered_lyrics"
   ]
  },
  {
   "cell_type": "code",
   "execution_count": 540,
   "metadata": {},
   "outputs": [
    {
     "data": {
      "text/plain": [
       "1274"
      ]
     },
     "execution_count": 540,
     "metadata": {},
     "output_type": "execute_result"
    }
   ],
   "source": [
    "len(LYRICS)"
   ]
  },
  {
   "cell_type": "code",
   "execution_count": 542,
   "metadata": {},
   "outputs": [
    {
     "data": {
      "text/plain": [
       "\"baby got love for thee so deep inside of me don't know where to start yeah yeah love you more than anything but the words can't even touch what's in my heart no noprewhen try to explain it be sounding insane the words don't ever come out right get all tonguetied and twisted can't explain what i'm feeling and say baby baby ohwoah ohwoah baby baby oh baby oh baby my baby baby oh baby baby baby all i'm tryna say is you're my everything baby but every time try to say it words they only complicate it baby baby ohwoah ohwoah baby i'm so down for you no matter what you do real talk i'll be around yeah yeah ooh baby baby been feeling you before even knew what feelings were about oh babyprewhen try to explain it be sounding all crazy words don't ever come out right get all tonguetied and twisted can't explain what i'm feeling and say baby baby ohwoah ohwoah baby baby oh baby oh baby my baby baby oh baby baby baby all i'm tryna say is you're my everything baby but every time try to say it words they only complicate it baby baby ohwoah ohwoah baby baby oohwoah straight up you got me all in how could not be sure hope you know sure hope you know if it's even possible love you more than the word love can say yeah it's better not explaining that's why keep saying baby oh baby oh baby my baby baby oh baby baby baby all i'm tryna say is you're my everything baby but every time try to say it words they only complicate it baby baby ohwoah ohwoah baby baby baby baby oh baby oh baby my baby baby oh baby baby baby all i'm tryna say is you're my everything baby but every time try to say it words they only complicate it every time try to say it words they only complicate it every time try to say it words they only complicate it baby baby ohwoah ohwoah baby baby\""
      ]
     },
     "execution_count": 542,
     "metadata": {},
     "output_type": "execute_result"
    }
   ],
   "source": [
    "LYRICS[0]"
   ]
  },
  {
   "cell_type": "code",
   "execution_count": 543,
   "metadata": {},
   "outputs": [],
   "source": [
    "def inputOutput(LYRICS):\n",
    "    input = []\n",
    "    output = []\n",
    "    for lyric in LYRICS:\n",
    "        lyric = lyric.split(' ')\n",
    "        length = len(lyric)\n",
    "        split = int(0.7 * length)\n",
    "        i = lyric[:split]\n",
    "        i = \" \".join(i)\n",
    "        o = lyric[split:]\n",
    "        o = \" \".join(o)\n",
    "        input.append(i)\n",
    "        output.append(o)\n",
    "    return input, output"
   ]
  },
  {
   "cell_type": "code",
   "execution_count": 544,
   "metadata": {},
   "outputs": [],
   "source": [
    "input, output = inputOutput(LYRICS)"
   ]
  },
  {
   "cell_type": "code",
   "execution_count": 545,
   "metadata": {},
   "outputs": [
    {
     "data": {
      "text/plain": [
       "\"baby got love for thee so deep inside of me don't know where to start yeah yeah love you more than anything but the words can't even touch what's in my heart no noprewhen try to explain it be sounding insane the words don't ever come out right get all tonguetied and twisted can't explain what i'm feeling and say baby baby ohwoah ohwoah baby baby oh baby oh baby my baby baby oh baby baby baby all i'm tryna say is you're my everything baby but every time try to say it words they only complicate it baby baby ohwoah ohwoah baby i'm so down for you no matter what you do real talk i'll be around yeah yeah ooh baby baby been feeling you before even knew what feelings were about oh babyprewhen try to explain it be sounding all crazy words don't ever come out right get all tonguetied and twisted can't explain what i'm feeling and say baby baby ohwoah ohwoah baby baby oh baby oh baby my baby baby oh baby baby baby all i'm tryna say is you're my everything baby but every time try to say it words they only complicate it baby baby ohwoah ohwoah baby baby oohwoah straight up you got me all in how could not be sure hope you know sure hope you know if it's even possible love you more than the word love can say yeah it's better not explaining\""
      ]
     },
     "execution_count": 545,
     "metadata": {},
     "output_type": "execute_result"
    }
   ],
   "source": [
    "input[0]"
   ]
  },
  {
   "cell_type": "code",
   "execution_count": 546,
   "metadata": {},
   "outputs": [
    {
     "data": {
      "text/plain": [
       "\"that's why keep saying baby oh baby oh baby my baby baby oh baby baby baby all i'm tryna say is you're my everything baby but every time try to say it words they only complicate it baby baby ohwoah ohwoah baby baby baby baby oh baby oh baby my baby baby oh baby baby baby all i'm tryna say is you're my everything baby but every time try to say it words they only complicate it every time try to say it words they only complicate it every time try to say it words they only complicate it baby baby ohwoah ohwoah baby baby\""
      ]
     },
     "execution_count": 546,
     "metadata": {},
     "output_type": "execute_result"
    }
   ],
   "source": [
    "output[0]"
   ]
  },
  {
   "cell_type": "code",
   "execution_count": 547,
   "metadata": {},
   "outputs": [
    {
     "name": "stdout",
     "output_type": "stream",
     "text": [
      "1274 1274\n"
     ]
    }
   ],
   "source": [
    "print(len(input), len(output))"
   ]
  },
  {
   "cell_type": "code",
   "execution_count": 548,
   "metadata": {},
   "outputs": [
    {
     "name": "stdout",
     "output_type": "stream",
     "text": [
      "97th percentile length lyric: 1723.0\n"
     ]
    }
   ],
   "source": [
    "PERCENTILE = 97\n",
    "print( f\"{PERCENTILE}th percentile length lyric: {np.percentile([len(x) for x in input], PERCENTILE)}\" )"
   ]
  },
  {
   "cell_type": "code",
   "execution_count": 549,
   "metadata": {},
   "outputs": [],
   "source": [
    "max_sequence_length = 1800\n",
    "\n",
    "def is_valid_token(lyric, vocab):\n",
    "    for token in list(set(lyric)):\n",
    "        if token not in vocab:\n",
    "            return False\n",
    "    return True\n",
    "\n",
    "def is_valid_length(lyric, max_sequence_length):\n",
    "    return len(list(lyric)) < (max_sequence_length - 1)"
   ]
  },
  {
   "cell_type": "code",
   "execution_count": 550,
   "metadata": {},
   "outputs": [
    {
     "name": "stderr",
     "output_type": "stream",
     "text": [
      "  0%|          | 0/1274 [00:00<?, ?it/s]"
     ]
    },
    {
     "name": "stderr",
     "output_type": "stream",
     "text": [
      "100%|██████████| 1274/1274 [00:00<00:00, 10797.89it/s]"
     ]
    },
    {
     "name": "stdout",
     "output_type": "stream",
     "text": [
      "Number of lyrics: 1274\n",
      "Number of valid lyrics: 1272\n"
     ]
    },
    {
     "name": "stderr",
     "output_type": "stream",
     "text": [
      "\n"
     ]
    }
   ],
   "source": [
    "valid_lyrics_indices = []\n",
    "for i in tqdm(range(len(input))):\n",
    "    ilyric, olyric = input[i], output[i]\n",
    "    if is_valid_token(ilyric, vocab) and is_valid_length(ilyric, max_sequence_length) and is_valid_token(olyric, vocab) and is_valid_length(olyric, max_sequence_length):\n",
    "        valid_lyrics_indices.append(i)\n",
    "\n",
    "print(f\"Number of lyrics: {len(input)}\")\n",
    "print(f\"Number of valid lyrics: {len(valid_lyrics_indices)}\")"
   ]
  },
  {
   "cell_type": "code",
   "execution_count": 551,
   "metadata": {},
   "outputs": [],
   "source": [
    "input_lyrics = [input[i] for i in valid_lyrics_indices]\n",
    "output_lyrics = [output[i] for i in valid_lyrics_indices]"
   ]
  },
  {
   "cell_type": "code",
   "execution_count": 552,
   "metadata": {},
   "outputs": [
    {
     "name": "stdout",
     "output_type": "stream",
     "text": [
      "1272 1272\n"
     ]
    }
   ],
   "source": [
    "print(len(input_lyrics), len(input_lyrics))"
   ]
  },
  {
   "cell_type": "code",
   "execution_count": 553,
   "metadata": {},
   "outputs": [],
   "source": [
    "train_split = 1000\n",
    "train_ilyrics, train_olyrics = input_lyrics[:train_split], output_lyrics[:train_split]\n",
    "test_ilyrics, test_olyrics = input_lyrics[train_split:], output_lyrics[train_split:]"
   ]
  },
  {
   "cell_type": "code",
   "execution_count": 554,
   "metadata": {},
   "outputs": [
    {
     "name": "stdout",
     "output_type": "stream",
     "text": [
      "baby got love for thee so deep inside of me don't know where to start yeah yeah love you more than anything but the words can't even touch what's in my heart no noprewhen try to explain it be sounding insane the words don't ever come out right get all tonguetied and twisted can't explain what i'm feeling and say baby baby ohwoah ohwoah baby baby oh baby oh baby my baby baby oh baby baby baby all i'm tryna say is you're my everything baby but every time try to say it words they only complicate it baby baby ohwoah ohwoah baby i'm so down for you no matter what you do real talk i'll be around yeah yeah ooh baby baby been feeling you before even knew what feelings were about oh babyprewhen try to explain it be sounding all crazy words don't ever come out right get all tonguetied and twisted can't explain what i'm feeling and say baby baby ohwoah ohwoah baby baby oh baby oh baby my baby baby oh baby baby baby all i'm tryna say is you're my everything baby but every time try to say it words they only complicate it baby baby ohwoah ohwoah baby baby oohwoah straight up you got me all in how could not be sure hope you know sure hope you know if it's even possible love you more than the word love can say yeah it's better not explaining\n",
      "that's why keep saying baby oh baby oh baby my baby baby oh baby baby baby all i'm tryna say is you're my everything baby but every time try to say it words they only complicate it baby baby ohwoah ohwoah baby baby baby baby oh baby oh baby my baby baby oh baby baby baby all i'm tryna say is you're my everything baby but every time try to say it words they only complicate it every time try to say it words they only complicate it every time try to say it words they only complicate it baby baby ohwoah ohwoah baby baby\n"
     ]
    }
   ],
   "source": [
    "print(train_ilyrics[0])\n",
    "print(train_olyrics[0])"
   ]
  },
  {
   "cell_type": "code",
   "execution_count": 555,
   "metadata": {},
   "outputs": [
    {
     "name": "stdout",
     "output_type": "stream",
     "text": [
      "baby will not pout baby will not cry 'cause got your love this christmas time when the snow's on the ground and it's freezing outside got your love this christmaspre on every list i've ever sent you're the gift i'd love the best so deck the halls and all the rest warm me up with your christmas love hey angel in the snow i'm under the mistletoe you are the one you're my very own christmas love tell santa i'm cool this year my present is standing right here thank god above for my very own christmas love yeah like beautiful tree you can light up the room but your kind of star can't be removed like beautiful carol get lost in your song and will forever sing alongpre on every list i've ever sent you're the gift i'd love the best so deck the halls and all the rest warm me up with your christmas love hey angel in the snow i'm under the mistletoe you are the one you're my very own christmas love tell santa i'm cool this year my present is standing right here thank god above for my very own christmas love all the lovers around the world got me singing merry merry christmas merry merry christmas and every boy and every girl stay close to the ones you love and thank god above that you got someone this year that can fill your heart with cheer yeah hey\n",
      "angel in the snow i'm under the mistletoe you are the one you're my very own christmas love tell santa i'm cool this year my present is standing right here thank god above for my very own christmas love hey angel in the snow i'm under the mistletoe you are the one you're my very own christmas love tell santa i'm cool this year my present is standing right here thank god above for my very own christmas love for my very own christmas love for my very own christmas love give me kiss baby give me kiss baby for my very own christmas love\n"
     ]
    }
   ],
   "source": [
    "print(test_ilyrics[0])\n",
    "print(test_olyrics[0])"
   ]
  },
  {
   "cell_type": "code",
   "execution_count": 556,
   "metadata": {},
   "outputs": [],
   "source": [
    "import numpy as np\n",
    "import torch\n",
    "from torch import nn\n",
    "import math"
   ]
  },
  {
   "cell_type": "code",
   "execution_count": 557,
   "metadata": {},
   "outputs": [],
   "source": [
    "def get_device():\n",
    "    return torch.device('cuda') if torch.cuda.is_available() else torch.device('cpu')"
   ]
  },
  {
   "cell_type": "code",
   "execution_count": 558,
   "metadata": {},
   "outputs": [],
   "source": [
    "def scaled_dot_product(q, k, v, mask=None):\n",
    "  d_k = q.size()[-1]\n",
    "  scaled = torch.matmul(q, k.transpose(-1, -2)) / math.sqrt(d_k)\n",
    "  if mask is not None:\n",
    "    scaled = scaled.permute(1, 0, 2, 3) + mask\n",
    "    scaled = scaled.permute(1, 0, 2, 3)\n",
    "  attention = nn.functional.softmax(scaled, dim=-1)\n",
    "  values = torch.matmul(attention, v)\n",
    "  return values, attention"
   ]
  },
  {
   "cell_type": "code",
   "execution_count": 559,
   "metadata": {},
   "outputs": [],
   "source": [
    "class PositionalEncoding(nn.Module):\n",
    "  def __init__(self, dimension_length, max_sequence_length):\n",
    "    super().__init__()\n",
    "    self.dimension_length = dimension_length\n",
    "    self.max_sequence_length = max_sequence_length\n",
    "\n",
    "  def forward(self):\n",
    "    index = torch.arange(0, self.dimension_length, 2).float()\n",
    "    denominator = torch.pow(10000, index / self.dimension_length)\n",
    "    position = torch.arange(self.max_sequence_length).reshape(self.max_sequence_length, 1)\n",
    "    even_positional_encoding = torch.sin(position / denominator)\n",
    "    odd_positional_encoding = torch.cos(position / denominator)\n",
    "    stacked = torch.stack([even_positional_encoding, odd_positional_encoding], dim=2)\n",
    "    positional_encoding = torch.flatten(stacked, start_dim = 1, end_dim = 2)\n",
    "    return positional_encoding"
   ]
  },
  {
   "cell_type": "code",
   "execution_count": 560,
   "metadata": {},
   "outputs": [],
   "source": [
    "class SentenceEmbedding(nn.Module):\n",
    "  def __init__(self, max_sequence_length, dimension_length, language_to_index, START_TOKEN, END_TOKEN, PAD_TOKEN):\n",
    "    super().__init__()\n",
    "    self.vocab_size = len(language_to_index)\n",
    "    self.max_sequence_length = max_sequence_length\n",
    "    self.embedding = nn.Embedding(self.vocab_size, dimension_length)\n",
    "    self.language_to_index = language_to_index\n",
    "    self.positional_encoder = PositionalEncoding(dimension_length, max_sequence_length)\n",
    "    self.dropout = nn.Dropout(p=0.1)\n",
    "    self.START_TOKEN = START_TOKEN\n",
    "    self.END_TOKEN = END_TOKEN\n",
    "    self.PAD_TOKEN = PAD_TOKEN\n",
    "\n",
    "  def batch_tokenize(self, batch, start_token, end_token):\n",
    "    def tokenize(sentence, start_token, end_token):\n",
    "      sentence_word_indicies = [self.language_to_index[token] for token in list(sentence)]\n",
    "      if start_token:\n",
    "        sentence_word_indicies.insert(0, self.language_to_index[self.START_TOKEN])\n",
    "      if end_token:\n",
    "        sentence_word_indicies.append(self.language_to_index[self.END_TOKEN])\n",
    "      for _ in range(len(sentence_word_indicies), self.max_sequence_length):\n",
    "        sentence_word_indicies.append(self.language_to_index[self.PAD_TOKEN])\n",
    "      return torch.tensor(sentence_word_indicies)\n",
    "\n",
    "    tokenized = []\n",
    "    for sentence_index in range(len(batch)):\n",
    "      tokenized.append(tokenize(batch[sentence_index], start_token, end_token))\n",
    "    tokenized = torch.stack(tokenized)\n",
    "    return tokenized.to(get_device())\n",
    "\n",
    "  def forward(self, x, start_token, end_token):\n",
    "    x = self.batch_tokenize(x, start_token, end_token)\n",
    "    x = self.embedding(x)\n",
    "    pos_enc = self.positional_encoder().to(get_device())\n",
    "    x = self.dropout(x + pos_enc)\n",
    "    return x"
   ]
  },
  {
   "cell_type": "code",
   "execution_count": 561,
   "metadata": {},
   "outputs": [],
   "source": [
    "class MultiHeadAttention(nn.Module):\n",
    "  def __init__(self, dimension_length, num_heads):\n",
    "    super().__init__()\n",
    "    self.dimension_length = dimension_length\n",
    "    self.num_heads = num_heads\n",
    "    self.head_dim = self.dimension_length // self.num_heads\n",
    "    self.qkv_layer = nn.Linear(self.dimension_length, 3 * self.dimension_length)\n",
    "    self.linear_layer = nn.Linear(self.dimension_length, self.dimension_length)\n",
    "\n",
    "  def forward(self, x, mask):\n",
    "    batch_size, sequence_length, dimension_length = x.size()\n",
    "    qkv = self.qkv_layer(x)\n",
    "    qkv = qkv.reshape(batch_size, sequence_length, self.num_heads, 3 * self.head_dim)\n",
    "    qkv = qkv.permute(0, 2, 1, 3)\n",
    "    q, k, v = qkv.chunk(3, dim=-1)\n",
    "    values, attention = scaled_dot_product(q, k, v, mask)\n",
    "    values = values.permute(0, 2, 1, 3).reshape(batch_size, sequence_length, self.num_heads * self.head_dim)\n",
    "    output = self.linear_layer(values)\n",
    "    return output"
   ]
  },
  {
   "cell_type": "code",
   "execution_count": 562,
   "metadata": {},
   "outputs": [],
   "source": [
    "class LayerNormalization(nn.Module):\n",
    "  def __init__(self, parameters_shape, eps=1e-2):\n",
    "    super().__init__()\n",
    "    self.parameters_shape = parameters_shape\n",
    "    self.eps = eps\n",
    "    self.mean = nn.Parameter(torch.zeros(parameters_shape))\n",
    "    self.std = nn.Parameter(torch.ones(parameters_shape))\n",
    "\n",
    "  def forward(self, inputs):\n",
    "    dims = [-(i + 1) for i in range(len(self.parameters_shape))]\n",
    "    mean = inputs.mean(dim=dims, keepdim=True)\n",
    "    var = ((inputs - mean) ** 2).mean(dim=dims, keepdim=True)\n",
    "    std = (var + self.eps).sqrt()\n",
    "    y = (inputs - mean) / std\n",
    "    output = self.std * y + self.mean\n",
    "    return output"
   ]
  },
  {
   "cell_type": "code",
   "execution_count": 563,
   "metadata": {},
   "outputs": [],
   "source": [
    "class FeedForward(nn.Module):\n",
    "  def __init__(self, dimension_length, hidden_neurons, drop_prob=0.1):\n",
    "    super(FeedForward, self).__init__()\n",
    "    self.linear_layer0 = nn.Linear(dimension_length, hidden_neurons)\n",
    "    self.linear_layer1 = nn.Linear(hidden_neurons, dimension_length)\n",
    "    self.relu = nn.ReLU()\n",
    "    self.dropout = nn.Dropout(p=drop_prob)\n",
    "\n",
    "  def forward(self, x):\n",
    "    x = self.linear_layer0(x)\n",
    "    x = self.relu(x)\n",
    "    x = self.dropout(x)\n",
    "    x = self.linear_layer1(x)\n",
    "    return x"
   ]
  },
  {
   "cell_type": "code",
   "execution_count": 564,
   "metadata": {},
   "outputs": [],
   "source": [
    "class EncoderLayer(nn.Module):\n",
    "  def __init__(self, dimension_length, hidden_neurons, num_heads, drop_prob):\n",
    "    super(EncoderLayer, self).__init__()\n",
    "    self.attention = MultiHeadAttention(dimension_length=dimension_length, num_heads=num_heads)\n",
    "    self.norm0 = LayerNormalization(parameters_shape=[dimension_length])\n",
    "    self.dropout0 = nn.Dropout(p=drop_prob)\n",
    "    self.ffn = FeedForward(dimension_length=dimension_length, hidden_neurons=hidden_neurons, drop_prob=drop_prob)\n",
    "    self.norm1 = LayerNormalization(parameters_shape=[dimension_length])\n",
    "    self.dropout1 = nn.Dropout(p=drop_prob)\n",
    "\n",
    "  def forward(self, x, self_attention_mask):\n",
    "    residual_x = x.clone()\n",
    "    x = self.attention(x, mask=self_attention_mask)\n",
    "    x = self.dropout0(x)\n",
    "    x = self.norm0(x + residual_x)\n",
    "    residual_x = x.clone()\n",
    "    x = self.ffn(x)\n",
    "    x = self.dropout1(x)\n",
    "    x = self.norm1(x + residual_x)\n",
    "    return x"
   ]
  },
  {
   "cell_type": "code",
   "execution_count": 565,
   "metadata": {},
   "outputs": [],
   "source": [
    "class SequentialEncoder(nn.Sequential):\n",
    "  def forward(self, *inputs):\n",
    "    x, self_attention_mask  = inputs\n",
    "    for module in self._modules.values():\n",
    "        x = module(x, self_attention_mask)\n",
    "    return x"
   ]
  },
  {
   "cell_type": "code",
   "execution_count": 566,
   "metadata": {},
   "outputs": [],
   "source": [
    "class Encoder(nn.Module):\n",
    "  def __init__(\n",
    "      self,\n",
    "      dimension_length,\n",
    "      hidden_neurons,\n",
    "      num_heads,\n",
    "      drop_prob,\n",
    "      num_layers,\n",
    "      max_sequence_length,\n",
    "      language_to_index,\n",
    "      START_TOKEN,\n",
    "      END_TOKEN,\n",
    "      PAD_TOKEN\n",
    "  ):\n",
    "    super().__init__()\n",
    "    self.sentence_embedding = SentenceEmbedding(max_sequence_length, dimension_length, language_to_index, START_TOKEN, END_TOKEN, PAD_TOKEN)\n",
    "    self.layers = SequentialEncoder(*[EncoderLayer(dimension_length, hidden_neurons, num_heads, drop_prob) for _ in range(num_layers)])\n",
    "\n",
    "  def forward(self, x, self_attention_mask, start_token, end_token):\n",
    "    x = self.sentence_embedding(x, start_token, end_token)\n",
    "    x = self.layers(x, self_attention_mask)\n",
    "    return x"
   ]
  },
  {
   "cell_type": "code",
   "execution_count": 567,
   "metadata": {},
   "outputs": [],
   "source": [
    "class MultiHeadCrossAttention(nn.Module):\n",
    "  def __init__(self, dimension_length, num_heads):\n",
    "    super().__init__()\n",
    "    self.dimension_length = dimension_length\n",
    "    self.num_heads = num_heads\n",
    "    self.head_dims = self.dimension_length // self.num_heads\n",
    "    self.kv_layer = nn.Linear(self.dimension_length, 2 * self.dimension_length)\n",
    "    self.q_layer = nn.Linear(self.dimension_length, self.dimension_length)\n",
    "    self.linear_layer = nn.Linear(self.dimension_length, self.dimension_length)\n",
    "\n",
    "  def forward(self, x, y, mask):\n",
    "    batch_size, sequence_length, dimension_length = x.size()\n",
    "    kv = self.kv_layer(x)\n",
    "    q = self.q_layer(y)\n",
    "    kv = kv.reshape(batch_size, sequence_length, self.num_heads, 2 * self.head_dims)\n",
    "    q = q.reshape(batch_size, sequence_length, self.num_heads, self.head_dims)\n",
    "    kv = kv.permute(0, 2, 1, 3)\n",
    "    q = q.permute(0, 2, 1, 3)\n",
    "    k, v = kv.chunk(2, dim=-1)\n",
    "    values, attention = scaled_dot_product(q, k, v, mask)\n",
    "    values = values.permute(0, 2, 1, 3).reshape(batch_size, sequence_length, dimension_length)\n",
    "    output = self.linear_layer(values)\n",
    "    return output"
   ]
  },
  {
   "cell_type": "code",
   "execution_count": 568,
   "metadata": {},
   "outputs": [],
   "source": [
    "class DecoderLayer(nn.Module):\n",
    "  def __init__(self, dimension_length, hidden_neurons, num_heads, drop_prob):\n",
    "    super(DecoderLayer, self).__init__()\n",
    "    self.self_attention = MultiHeadAttention(dimension_length=dimension_length, num_heads=num_heads)\n",
    "    self.layer_norm0 = LayerNormalization(parameters_shape=[dimension_length])\n",
    "    self.dropout0 = nn.Dropout(p=drop_prob)\n",
    "\n",
    "    self.cross_attention = MultiHeadCrossAttention(dimension_length=dimension_length, num_heads=num_heads)\n",
    "    self.layer_norm1 = LayerNormalization(parameters_shape=[dimension_length])\n",
    "    self.dropout1 = nn.Dropout(p=drop_prob)\n",
    "\n",
    "    self.ffn = FeedForward(dimension_length=dimension_length, hidden_neurons=hidden_neurons, drop_prob=drop_prob)\n",
    "    self.layer_norm2 = LayerNormalization(parameters_shape=[dimension_length])\n",
    "    self.dropout2 = nn.Dropout(p=drop_prob)\n",
    "\n",
    "  def forward(self, x, y, self_attention_mask, cross_attention_mask):\n",
    "    residual_y = y.clone()\n",
    "    y = self.self_attention(y, mask=self_attention_mask)\n",
    "    y = self.dropout0(y)\n",
    "    y = self.layer_norm0(y + residual_y)\n",
    "\n",
    "    residual_y = y.clone()\n",
    "    y = self.cross_attention(x, y, mask=cross_attention_mask)\n",
    "    y = self.dropout1(y)\n",
    "    y = self.layer_norm1(y + residual_y)\n",
    "\n",
    "    residual_y = y.clone()\n",
    "    y = self.ffn(y)\n",
    "    y = self.dropout2(y)\n",
    "    y = self.layer_norm2(y + residual_y)\n",
    "    return y"
   ]
  },
  {
   "cell_type": "code",
   "execution_count": 569,
   "metadata": {},
   "outputs": [],
   "source": [
    "class SequentialDecoder(nn.Sequential):\n",
    "    def forward(self, *inputs):\n",
    "        x, y, self_attention_mask, cross_attention_mask = inputs\n",
    "        for module in self._modules.values():\n",
    "            y = module(x, y, self_attention_mask, cross_attention_mask)\n",
    "        return y"
   ]
  },
  {
   "cell_type": "code",
   "execution_count": 570,
   "metadata": {},
   "outputs": [],
   "source": [
    "class Decoder(nn.Module):\n",
    "  def __init__(\n",
    "      self,\n",
    "      dimension_length,\n",
    "      hidden_neurons,\n",
    "      num_heads,\n",
    "      drop_prob,\n",
    "      num_layers,\n",
    "      max_sequence_length,\n",
    "      language_to_index,\n",
    "      START_TOKEN,\n",
    "      END_TOKEN,\n",
    "      PAD_TOKEN\n",
    "  ):\n",
    "    super().__init__()\n",
    "    self.sentence_embedding = SentenceEmbedding(max_sequence_length, dimension_length, language_to_index, START_TOKEN, END_TOKEN, PAD_TOKEN)\n",
    "    self.layers = SequentialDecoder(*[DecoderLayer(dimension_length, hidden_neurons, num_heads, drop_prob) for _ in range(num_layers)])\n",
    "\n",
    "  def forward(self, x, y, self_attention_mask, cross_attention_mask, start_token, end_token):\n",
    "    y = self.sentence_embedding(y, start_token, end_token)\n",
    "    y = self.layers(x, y, self_attention_mask, cross_attention_mask)\n",
    "    return y"
   ]
  },
  {
   "cell_type": "code",
   "execution_count": 571,
   "metadata": {},
   "outputs": [],
   "source": [
    "class Transformer(nn.Module):\n",
    "  def __init__(\n",
    "      self,\n",
    "      dimension_length,\n",
    "      hidden_neurons,\n",
    "      num_heads,\n",
    "      drop_prob,\n",
    "      num_layers,\n",
    "      max_sequence_length,\n",
    "      vocab_size,\n",
    "      source_to_index,\n",
    "      target_to_index,\n",
    "      START_TOKEN,\n",
    "      END_TOKEN,\n",
    "      PAD_TOKEN\n",
    "  ):\n",
    "    super().__init__()\n",
    "    self.encoder = Encoder(dimension_length, hidden_neurons, num_heads, drop_prob, num_layers, max_sequence_length, source_to_index, START_TOKEN, END_TOKEN, PAD_TOKEN)\n",
    "    self.decoder = Decoder(dimension_length, hidden_neurons, num_heads, drop_prob, num_layers, max_sequence_length, target_to_index, START_TOKEN, END_TOKEN, PAD_TOKEN)\n",
    "    self.linear = nn.Linear(dimension_length, vocab_size)\n",
    "    self.device = torch.device('cuda') if torch.cuda.is_available() else torch.device('cpu')\n",
    "\n",
    "  def forward(\n",
    "      self,\n",
    "      x,\n",
    "      y,\n",
    "      encoder_self_attention_mask=None,\n",
    "      decoder_self_attention_mask=None,\n",
    "      decoder_cross_attention_mask=None,\n",
    "      enc_start_token=False,\n",
    "      enc_end_token=False,\n",
    "      dec_start_token=False,\n",
    "      dec_end_token=False\n",
    "  ):\n",
    "    x = self.encoder(x, encoder_self_attention_mask, start_token=enc_start_token, end_token=enc_end_token)\n",
    "    x = self.decoder(x, y, decoder_self_attention_mask, decoder_cross_attention_mask, start_token=dec_start_token, end_token=dec_end_token)\n",
    "    output = self.linear(x)\n",
    "    return output"
   ]
  },
  {
   "cell_type": "code",
   "execution_count": 572,
   "metadata": {},
   "outputs": [],
   "source": [
    "d_model = 512\n",
    "batch_size = 15\n",
    "ffn_hidden = 2048\n",
    "num_heads = 8\n",
    "drop_prob = 0.1\n",
    "num_layers = 1\n",
    "max_sequence_length = 1800\n",
    "vocab_size = len(vocab)\n",
    "\n",
    "transformer = Transformer(\n",
    "    d_model,\n",
    "    ffn_hidden,\n",
    "    num_heads,\n",
    "    drop_prob,\n",
    "    num_layers,\n",
    "    max_sequence_length,\n",
    "    vocab_size,\n",
    "    char_to_index,\n",
    "    char_to_index,\n",
    "    START_TOKEN,\n",
    "    END_TOKEN,\n",
    "    PAD_TOKEN\n",
    ")"
   ]
  },
  {
   "cell_type": "code",
   "execution_count": 573,
   "metadata": {},
   "outputs": [
    {
     "data": {
      "text/plain": [
       "Transformer(\n",
       "  (encoder): Encoder(\n",
       "    (sentence_embedding): SentenceEmbedding(\n",
       "      (embedding): Embedding(2326, 512)\n",
       "      (positional_encoder): PositionalEncoding()\n",
       "      (dropout): Dropout(p=0.1, inplace=False)\n",
       "    )\n",
       "    (layers): SequentialEncoder(\n",
       "      (0): EncoderLayer(\n",
       "        (attention): MultiHeadAttention(\n",
       "          (qkv_layer): Linear(in_features=512, out_features=1536, bias=True)\n",
       "          (linear_layer): Linear(in_features=512, out_features=512, bias=True)\n",
       "        )\n",
       "        (norm0): LayerNormalization()\n",
       "        (dropout0): Dropout(p=0.1, inplace=False)\n",
       "        (ffn): FeedForward(\n",
       "          (linear_layer0): Linear(in_features=512, out_features=2048, bias=True)\n",
       "          (linear_layer1): Linear(in_features=2048, out_features=512, bias=True)\n",
       "          (relu): ReLU()\n",
       "          (dropout): Dropout(p=0.1, inplace=False)\n",
       "        )\n",
       "        (norm1): LayerNormalization()\n",
       "        (dropout1): Dropout(p=0.1, inplace=False)\n",
       "      )\n",
       "    )\n",
       "  )\n",
       "  (decoder): Decoder(\n",
       "    (sentence_embedding): SentenceEmbedding(\n",
       "      (embedding): Embedding(2326, 512)\n",
       "      (positional_encoder): PositionalEncoding()\n",
       "      (dropout): Dropout(p=0.1, inplace=False)\n",
       "    )\n",
       "    (layers): SequentialDecoder(\n",
       "      (0): DecoderLayer(\n",
       "        (self_attention): MultiHeadAttention(\n",
       "          (qkv_layer): Linear(in_features=512, out_features=1536, bias=True)\n",
       "          (linear_layer): Linear(in_features=512, out_features=512, bias=True)\n",
       "        )\n",
       "        (layer_norm0): LayerNormalization()\n",
       "        (dropout0): Dropout(p=0.1, inplace=False)\n",
       "        (cross_attention): MultiHeadCrossAttention(\n",
       "          (kv_layer): Linear(in_features=512, out_features=1024, bias=True)\n",
       "          (q_layer): Linear(in_features=512, out_features=512, bias=True)\n",
       "          (linear_layer): Linear(in_features=512, out_features=512, bias=True)\n",
       "        )\n",
       "        (layer_norm1): LayerNormalization()\n",
       "        (dropout1): Dropout(p=0.1, inplace=False)\n",
       "        (ffn): FeedForward(\n",
       "          (linear_layer0): Linear(in_features=512, out_features=2048, bias=True)\n",
       "          (linear_layer1): Linear(in_features=2048, out_features=512, bias=True)\n",
       "          (relu): ReLU()\n",
       "          (dropout): Dropout(p=0.1, inplace=False)\n",
       "        )\n",
       "        (layer_norm2): LayerNormalization()\n",
       "        (dropout2): Dropout(p=0.1, inplace=False)\n",
       "      )\n",
       "    )\n",
       "  )\n",
       "  (linear): Linear(in_features=512, out_features=2326, bias=True)\n",
       ")"
      ]
     },
     "execution_count": 573,
     "metadata": {},
     "output_type": "execute_result"
    }
   ],
   "source": [
    "transformer"
   ]
  },
  {
   "cell_type": "code",
   "execution_count": 574,
   "metadata": {},
   "outputs": [],
   "source": [
    "from torch.utils.data import Dataset, DataLoader\n",
    "\n",
    "class LyricDataset(Dataset):\n",
    "    def __init__(self, input_lyrics, output_lyrics):\n",
    "        self.input_lyrics = input_lyrics\n",
    "        self.output_lyrics = output_lyrics\n",
    "\n",
    "    def __len__(self):\n",
    "        return len(self.input_lyrics)\n",
    "\n",
    "    def __getitem__(self, index):\n",
    "        return self.input_lyrics[index], self.output_lyrics[index]"
   ]
  },
  {
   "cell_type": "code",
   "execution_count": 575,
   "metadata": {},
   "outputs": [],
   "source": [
    "train_dataset = LyricDataset(train_ilyrics, train_olyrics)\n",
    "test_dataset = LyricDataset(test_ilyrics, test_olyrics)"
   ]
  },
  {
   "cell_type": "code",
   "execution_count": 576,
   "metadata": {},
   "outputs": [],
   "source": [
    "train_loader = DataLoader(train_dataset, batch_size)\n",
    "test_loader = DataLoader(test_dataset, batch_size)"
   ]
  },
  {
   "cell_type": "code",
   "execution_count": 580,
   "metadata": {},
   "outputs": [
    {
     "name": "stdout",
     "output_type": "stream",
     "text": [
      "[(\"baby got love for thee so deep inside of me don't know where to start yeah yeah love you more than anything but the words can't even touch what's in my heart no noprewhen try to explain it be sounding insane the words don't ever come out right get all tonguetied and twisted can't explain what i'm feeling and say baby baby ohwoah ohwoah baby baby oh baby oh baby my baby baby oh baby baby baby all i'm tryna say is you're my everything baby but every time try to say it words they only complicate it baby baby ohwoah ohwoah baby i'm so down for you no matter what you do real talk i'll be around yeah yeah ooh baby baby been feeling you before even knew what feelings were about oh babyprewhen try to explain it be sounding all crazy words don't ever come out right get all tonguetied and twisted can't explain what i'm feeling and say baby baby ohwoah ohwoah baby baby oh baby oh baby my baby baby oh baby baby baby all i'm tryna say is you're my everything baby but every time try to say it words they only complicate it baby baby ohwoah ohwoah baby baby oohwoah straight up you got me all in how could not be sure hope you know sure hope you know if it's even possible love you more than the word love can say yeah it's better not explaining\", \"refrain they know what is what but they don't know what is what they just strut what the fuck katy perry tiger don't lose no sleep don't need opinions from shellfish or sheep don't you come for me no not today you're calculated got your number 'cause you're joker and i'm courtside killer queen and you will kiss the ring you best believepre katy perry so keep calm honey i'ma stick around for more than minute get used to it funny my name keeps cominoutcho mouth 'cause stay winning lay 'em up like katy perry swish swish bish another one in the basket can't touch this another one in the casket katy perry your game is tired you should retire you're 'bout cute as an old coupon expired and karma's not liar she keeps receiptspre katy perry so keep calm honey i'ma stick around for more than minute get used to it funny my name keeps cominoutcho mouth 'cause stay winning lay 'em up like katy perry swish swish bish another one in the basket can't touch this another one in the casket swish swish bish another one in the basket can't touch this another one in the casketrefrain they know what is what but they don't know what is what katy perry they just know what is what young money but they don't know what is what they just know what is what but they don't know what is what they just strut hahaha yo what the fuck nicki minaj pink ferragamo sliders on deck silly rap beefs just get me more checks my life is movie i'm never off set me and my amigos no not offset swish swish aww got them upset but my shooters'll make 'em dance like dubstep swish swish aww my haters is obsessed 'cause make m's they get much less don't be tryna double back already despise you all that fake love you showincouldn't even disguise you\", \"how you doing honey baby you know don't ask for much but for girl spending time alone can be pretty rough but get knock on my door you know it's yours for sure we can't wait for the bedroom so we just hit the floorpre is y'all alright don't know but know what's happening to me girl is y'all alright uh break it down now is y'all alright don't know but know what's happening to me girl is y'all alright uh break it down now see you gotta work it out see you gotta work it out brotha gotta work it outhook chad blow your horn now come on chad blow your horn now so we shaking back and forth now just keep it coming babe treat my body like ayou got toyou got to keep on strumming but in the back of my mind wonder is it gonna be the last time well if there ain't nobody loving and you gonkeep it coming well baby with me that's finepre is y'all alright don't know but know what's happening to me girl is y'all alright uh break it down now is y'all alright don't know but know what's happening to me girl is y'all alright uh break it down now see you gotta work it out see you gotta work it out brotha gotta work it outhook chad blow your horn now come\", \"yeah look you know how the paigon chitchat goes like r's and v's and o's don't really play no tictactoe been with chubbs through highs and lows we seen man last night they froze wasn't no cameras wasn't no pose just like that one time at 'chella good thing man weren't pullinout phones stay in big sixsix with woes man start dissinand doinreposts they do anything except road still can't see them after it snows don't have time for the wasteman jokes personal ting if i'm gettinup close loyal to 'cause i've taken oath versace hotel and i'm takinthe robes seen 'em in person i'm seeina ghost they told me relax 'cause they're takincontrol take all that shit up with and his bro wish you the best let me know how it goes wanna be free and wanna let go we came around and you showed us the most know so much shit that cannot expose keep it inside and laugh on my own got all the tea and i'm hottinit up need shade mansion room's not enough you're droppinsome shit but that shit was bust they got no direction they're followinus come from city that they never touch your man is goofy and he could get brushed can't name rapper or girl that trust dream about turninthese yutes into dustinterlude ayy ayy ayy yeah you know how the paigon chitchat goes like r's and v's and o's don't really play no tictactoe been with roxx through highs and lows we seen man last night they froze wasn't no cameras wasn't no pose just like that one time at nobu good thing man weren't pullinout phones think you know me that's not true we got ties in west end too she came over and she got slewed throwinup six like man had flu got way too big off views\", \"nicki minaj ya girl been hot since corduroys since quarter watersand all the boys used to try to beat like the corner boys 'cause they heard the pussy wetter than themdorney rides fuck with who fucks with you as long as them checks clear like huxtable im known to hang with thug or two niggas that only do what thug would do ask about me the feds watch daily gettin more cheese more bread than deli and im getting love fan mail like melly and throw it up twelve oclock when wheelie im in the scoop my nigga coupe gotta be grey you gotta get paid aint nothin worse than being broke bitch always got crack tell em to smoke this jadakiss yo ya boy been nice since thunder cats since leather boomers and lumber jacks come outside with hundred stack jeans with the sweat pants under that yeah front on who not on me niggas know keep the seventeen shot on me made lil something off rap lot off get your points off another nigga not off me air forces new trues and crispy tee new coupe nigga clcost you nothin we get hit for free with nicki matter fact nah the bitch with me nicki minaj\", \"feeling like i'm breathing my last breath feeling like i'm walking my last steps look at all of these tears i've wept look at all the promises that i've keptpre put my all into your hands here's my soul to keep let you in with all that can you're not hard to reach and you bless me with the best gift that i've ever known you give me purpose yeah you've given me purpose thinking my journey's come to an end sending out farewell to my friends for inner peace ask you to forgive me for my sins oh would you please i'm more than grateful for the time we spent my spirit's at easepre put my heart into your hands learn the lessons you teach no matter when wherever am you're not hard to reach and you've given me the best gift that i've ever known you give me purpose everyday you give me purpose in every way oh you are my everything oh you are my everything spoken dont know if this is wrong because someone else is telling me that its wrong but feel this so let me just like try my best not to let this happen againwe werent necessarily put in the best position to make the best decisionsyou cant be hard on yourself for it these are the\", \"it's late in the evening glass on the side i've been sat with you for most of the night ignoring everybody here we wish they would disappear so maybe we could get down now don't wanna know if you're getting ahead of the program want you to be mine lady to hold your body close take another step into the no man's land for the longest time ladyi need you darling come on set the tone if you feel you're falling won't you let me know if you love me come on get involved feel it rushing through you from your head to toesing louder singthis love is ablaze saw flames from the side of the stage and the fire brigade comes in couple of days until then we got nothing to say and nothing to know but something to drink and maybe something to smoke let it go until our roads are changed singing in local rave no don't really know what i'm supposed to say but can just figure it out and hope and pray told her my name and said it's nice to meet ya then she handed me of bottle of water filled with tequila already know if she's keeper just from this one small act of kindness i'm in deep if anybody finds out i'm meant to drive home but drunk all of it down not sober enough we just sit on the couch one thing led to another now she's kissing my mouthi need you darling come on set the tone if you feel you're falling won't\", \"rihanna tomorrow way too far away and we can't get back yesterday but we young right now we got right now so get up right now 'cause all we got is right now tomorrow way too far away and we can't get back yesterday but we young right now we got right now so get up right now 'cause all we got is right nowdropralphi rosariorihanna get up right now so get up right now rihanna baby tonight need you and feel it when see you wherever you wanna go whenever baby i'm yours rihanna tomorrow way too far away and we can't get back yesterday but we young right now we got right now so get up right now 'cause all we got is right now tomorrow way too far away and we can't get back yesterday but we young right now we got right now so get up right now 'cause all we got is right nowdropralphi rosariorihanna 'cause all we got is right now rihanna so close can taste you ain't scared can take you can't fight the feeling got me fiendinyou got me fiendinsomething you wanted to do all your life there's no more waiting tonight is the night and it can't be wrong not if it feels\", \"drakepartynextdoor it's your fuckinbirthday oh birthday need more liquor it's fuckincelebration oh oh tonight we celebrate seems like time's out of our control it's celebration oh oh drake it's your birthday baby it's your birthday yeah who's gonna love you on your worst day you talk so tough know you're soft like buttercups reese's reese's don't be ridiculous just say your piece and peace up like ibiza cool your headtop you hotter than anitta bakinbaby tell me where need topre drake to be to feel and fill that emptiness inside you petty bullshit shouldn't excite you on your birthday drakepartynextdoor it's your brrrrrrr it's your fuckinbirthday oh birthday need more liquor it's fuckincelebration oh oh tonight we celebrate seems like time's out of our control oh oh it's celebration oh oh drake they tried it they went for it all year and you're still here just ignore it if it ain't the real thing you don't want it gg cc's all on ya it's your month and you know it and you know it and you know it's real don't gotta say it for you and you know somebody home prayinfor you you say play this shit they better play\", \"lady gaga baby i've got lot of questions you better listen up please wanna know what you want and need to charge up your batteries you got the flow and the intentions boy but have you got the miles got the miles got the miles show me you got the ammunition that you're good forfor while for while for while lady gaga charge it up charge it up now 'cause baby you could be mine need real soldier need you to reload it bring reloader charge it up charge it up now 'cause babe i'm gonna be kind need real soldier need you to reload it bring reloaderpost lady gaga reloadedloaded looaded looaded reloadedloaded looaded looaded reloadedloaded looaded looaded reloadedloaded looaded looaded lady gaga you bbetter rest up your energy you better reserve yourself 'cause tonight i'm expecting to get plenty and won'twon't do it myself conserve your juices 'cause i'm gonna take you on marathon i'm not ridiculous i'm just girl who likes man who can go long can go long can go long lady gaga charge it up charge it up now cause baby you could be mine need real soldier need you to reload it bring reloader charge it up charge it up now 'cause babe i'm gonna be kind need real soldier need you to reload it bring reloaderpost lady gaga reloadedloaded looaded looaded reloadedloaded looaded looaded reloadedloaded looaded looaded reloadedloaded looaded looaded lady gaga baby you can check yourself promise genuinely that i'm gonna do you right and won't complain unless you're buggincant handle my loving tonight tonight tonight rodney darkchild jerkins uh yo momma get low momma\", \"nicki minaj mi man mi say nuff gyal road chase you lately mi know de trut but that dont bother mepre nicki minaj so tell dem gyal dem ooh and tell ya friend dem ooh nicki minaj my gun go gun shot inna dem bloodclaat hit dem wit it which part any way dem go suh tell dem gyal dem yo tell dem gyal seh yo my gun go gun shot inna dem bloodclaat hit dem wit it which part any way dem go suh tell dem gyal dem yo mek dem gyal dem know nicki minaj mi man you say im crazy over you baby no matter what they cant get in between uspre nicki minaj so tell dem gyal dem ooh and tell ya friend dem ooh nicki minaj my gun go gun shot inna dem bloodclaat hit dem wit it which part any way dem go suh tell dem gyal dem yo tell dem gyal seh yo my gun go gun shot inna dem bloodclaat hit dem wit it which part any way dem go suh tell dem gyal dem yo mek dem gyal dem knowbreak beenie man zaga am the girls dem sugar sometimes mi girlfriend wonder mek mi tell yuh something beenie man beenie man im the girls them provide the lock for my key you alone mi pree you fulfill all my desires for meprebeenie mannicki minaj so mi go tell gyal ooh and tell ya friend dem oohbeenie mannicki minaj love it when yuh on top wuss when yuh guh backshot none dem nuh have that so when dem run in mi go tell gyal yo mi go tell gyal yo 'cause love it when yuh on top wuss when yuh guh backshot none dem nuh have that so when dem run in mi go tell gyal yo mi go tell gyal knowbeenie man hey pretty nicki meet admiral dicky friend dem tel me say you have the sticky sticky gyal how yuh hot and yuh sexy and pretty me yuh cherry mi want pick eh\", \"sitting here all alone watching the snow fall looking back at the days when we threw them snow balls can't believe i'm putting the tree up by myself need you and nobody elsepre and i'm sorry if pushed you away 'cause need you here and want for you to know and don't care if don't get anything all need is you here right now and i'm sorry if hurt you but know that all want is you this christmas this christmas this christmas all want is you this christmas i'm sorry if hurt you but know that all want is you this christmas and never wanna do this alone baby just need you to be here here through the holidays yeah just wanna know if you feel same way because i'm lonely baby want you to hold me babypre and i'm sorry if pushed you away just want you to know miss you and want you to stay and don't care if don't get anything al need is you here right now and i'm sorry if hurt you but know that all want is you this christmas this christmas this christmas all want is you this christmas i'm sorry if hurt you but know that all want is you this christmas wrapping gifts without you\", \"rihanna yeah yeah yeah that's how much love you that's how much need you rihannadavid bisbal and can't stand you must everything you do make me wanna smile can not like you for awhile no tme dejas te enfadas después me vuelves besar asme haces olvidar estoy molesto no me acuerdo de por qubut hate it you know exactly what to do so that can't stay mad at you for too long that's wrong but hate it nadie me calma como ty me doy cuenta que mi única verdad es que odio amarte tanto rihanna and hate how much love you boy can't stand how much need you and hate how much love you boy but just can't let you go and hate that love you so oh rihannadavid bisbal tsabes el poder que tienes sobre mi nadie más me hace reir said it's not fair how you take advantage of the fact that love you beyond the reason why and it just ain't right david bisbal es que odio amarte tanto amor saber que te necesito es que odio amarte tanto amor no puedo vivir sin ti pero odio quererte asrihannadavid bisbal one of these days maybe your magic won't affect me hmm and your kiss won't make me weak pero nadie nadie más hoy me conoce tanto eso es\", \"beyoncin december every sign has its own mode was in love with sagittarius see the emotions he put me through from capricorns to aquarius they all got their different minds the affection of virgo which sign matches good with mine beyonci was in love with sagittarius he blew my mind he also had flip side too much like gemini he was freaky like taurus the way he handled me yeah flirtatious like an aries which sign is best for me beyonccapricorn aquarius pisces aries taurus gemini cancer oh leo virgo libra scorpio sagittarius love all y'all capricorn aquarius pisces aries taurus gemini cancer oh leo virgo libra scorpio sagittarius love all y'all beyonc missy elliott hey wish he was virgo the same sign as me and know how to show me love 'cause i've been hurt by pisces rewind wish he was virgo the same sign as me and know how to show me love 'cause i've been hurt by pisces want him sexy like scorpio the way he holds me close yeah sensitive as cancer every sign from coast to coast beyonccapricorn aquarius pisces aries taurus gemini cancer oh leo virgo libra scorpio sagittarius love all y'all capricorn aquarius pisces aries taurus gemini cancer oh leo virgo libra scorpio sagittarius love all y'all beyonci can't explain why love him bossy like leo's do got game like an aquarius switch moves after he's been with you fun like libra he stays on my mind he's so unpredictable he reminds me of every sign beyonccapricorn aquarius pisces aries taurus gemini cancer oh leo virgo libra scorpio sagittarius love all y'all capricorn aquarius pisces aries taurus gemini cancer oh leo virgo libra scorpio\", \"it's late in the evening glass on the side i've been sat with you for most of the night ignorineverybody here we wish they would disappear so maybe we could get down now and don't wanna know if you're gettinahead of the program want you to be mine lady to hold your body close take another step into the noman's land and for the longest time ladypre need you darling come on set the tone if you feel you're fallinwont you let me know if you love me come on get involved feel it rushinthrough you from your head to toe sing louder sing this love is ablaze saw flames from the side of the stage and the fire brigade comes in couple of days until then we got nothinto say and nothinto know but somethinto drink and maybe somethinto smoke let it go until our roads are changed singinwe found love in local rave no don't really know what i'm supposed to say but can just figure it out then hope and pray told her my name then said it's nice to meet you then she handed me bottle of water filled with tequila already know if she's keeper just from this one small act of kindness i'm in deep shit if anybody finds out meant to drive home but drunk all of it now not soberinup we just sit on the couch one thing led to another now she's kissinmy mouthpre need you darling come on set the tone if you feel you're fallinwont you let me know\"), (\"that's why keep saying baby oh baby oh baby my baby baby oh baby baby baby all i'm tryna say is you're my everything baby but every time try to say it words they only complicate it baby baby ohwoah ohwoah baby baby baby baby oh baby oh baby my baby baby oh baby baby baby all i'm tryna say is you're my everything baby but every time try to say it words they only complicate it every time try to say it words they only complicate it every time try to say it words they only complicate it baby baby ohwoah ohwoah baby baby\", \"ran when nicki gettintan mirror mirror who's the fairest bitch in all the land damn man this bitch is stan muah muah the generous queen will kiss fan ass goodbye i'ma be riding by i'ma tell mybiggz yeah that's tha guy star's star da ha da ha they never thought the swish god would take it this far get my pimp cup this is pimp shit baby only rock with queens so i'm makinhits with katy katy perry swish swish bish another one in the basket can't touch this another one in the casketrefrain they know what is what do they know but they don't know what is what they just know what is what but they don't know what is what they just know what is what but they don't know what is what they just strut what the\", \"on chad blow your horn nowspoken like this look it here haso baby hold me like you don't wanna let go i'm feeling foxy cause boy you working it out daddy you've given me taste of your honey want the whole beehive i'm gonna call you my sugar cause had the sweetest time see you gotta work it out see you gotta work it out brotha gotta work it outi like it when the horn go ha austin better work it out ha foxxy better work it out ha ap better work it out ha ap better work it out\", \"back to the basics won't lose they wanna link when they got no chunes they too worried 'bout sellinout shoes don't give fuck 'bout jeans and crep or gointo milan or gointo the met just wanna make these songs for the set just wanna load that and let that wet got so much tings in the stash fold up anyone dun that clash got no sense like jizzle and shh big and bad like leader and shh can't do love 'cause they get too attached phone get broke and whip get scratched i'ma just take my knots in cash they can never tie me down that's facts all that bark but we know he's cat don't really like gointit for tat i'ma just come like tattattat i'ma just end that there that's that\", 'so you wanna sip goose and play nintendo wii no get the bricks and flip the yayo chirp if you looking for the work hundred dollars of pussy my misses getting busy feds getting dizzy niggas trying to get me so change the sizzy combination to the cizzy brand new thats what get for pitchin nice little crib couch that could sit in umm mean sit on blow piff fuck bitch on oops mean feller keeps the umbreller and only fuck with them paper makers nicki lewinski lk to jada', 'cards you were given so you have to understand thats not who you are you know youre trying to be the best you can be but thats all you can do if you dont give it all you got youre only cheating yourself give it all you got but if it ends up happening it ends up happeningthats what happening with me its like god im giving it all ive got sometimes im weak and im going to do it and its like im not giving myself grace im just like understanding thats how it is', \"you let me know if you love me come on get involved feel it rushing through you from your head to toesing louder singcan you feel it all the guys in here don't even wanna dance can you feel it all that can hear is music from the back can you feel it found you hiding here so hoped you'd take my hand darlingbefore the beats kicks in again can you feel it can you feel iti need you darling come on set the tone if you feel you're falling won't you let me know if you love me come on get involved feel it rushing through you from your head to toesing\", \"this right turn it up scream it loud yeah rihanna tomorrow way too far away tomorrow way too far away tomorrow way too far away and we can't get back yesterday but we young right now we got right now so get up right now 'cause all we got is right now tomorrow way too far away and we can't get back yesterday but we young right now we got right now so get up right now 'cause all we got is right nowdropralphi rosariorihanna 'cause all we got is right now\", \"it ayy play it for you for you on time and miss the days that you was all mine haven't been official in long time so tell me where need topre drake to be to feel and fill that emptiness inside you petty bullshit shouldn't excite you on your birthday drakepartynextdoor it's your brrrrrrr it's your fuckinbirthday oh birthday need more liquor it's fuckincelebration oh oh tonight we celebrate seems like time's out of our control it's celebration oh oh partynextdoor oh it's your fuckinbirthday oh oh\", \"hit the flow momma rock like obama mad like osama i'mma with the drama got the whole life if you got the torch sup hey my man run from me man say what hey my man run from me say what hold up 'fore this room blow up i'mma release the clip and reload up uh lady gaga charge it up charge it up now cause baby you could be mine need real soldier need you to reload it bring reloader charge it up charge it up now 'cause babe i'm gonna be kind need real soldier need you to reload it bring reloaderpost lady gaga reloadedloaded looaded looaded reloadedloaded looaded looaded reloadedloaded looaded looaded reloadedloaded looaded looaded\", \"but it's not every girl in my life i've duced to my mama but you are the girl man choose to give honor so when some careless gyal come with them silly drama tell dem pause like sentence mi using the comma mek we visit marc jacobs and call the wedding planner for romantic setting in the middle of the savannah ya love is in di air and it appears like ah banner now the heart in mi chest is like hammerbeenie mannicki minaj love it when yuh on top wuss when yuh guh backshot none dem nuh have that so when dem run in mi go tell gyal yo mi go tell gyal yo 'cause love it when yuh on top wuss when yuh guh backshot none dem nuh have that so when dem run in mi go tell gyal yo mi go tell gyal know\", \"babe's like middecember and there's no cold can't do this on my own i've changed my ways keep running back and forth again i'm here to stay yeah and don't care if don't get anything all need is you here right now and i'm sorry if hurt you but know that all want is you this christmas this christmas this christmas all want is you this christmas i'm sorry if hurt you but know that all want is you this christmas all want is you this christmas all want is you this christmas\", \"un hechizo que tienes sobre mi rihannadavid bisbal that's how much love you te necesito that's how much need you te quiero tanto that's how much love you te necesito that's how much need you te quiero tanto and hate that love you so rihanna with david bisbal adlibs and hate that love you so and hate how much love you boy can't stand how much need you and hate how much love you boy but just can't let you go and hate that love you so rihannadavis bisbal and hate that love you so so\", \"sagittarius love all y'all beyoncevery sign from the first to the last ohh everyday of the month has its good and its bad everyday of the month love you all all twelve signs capricorn aquarius pisces aries taurus gemini cancer oh capricorn aquarius pisces aries taurus gemini cancer oh capricorn aquarius pisces aries taurus gemini cancer ohmissy elliott every one of these signs you know you blowing me away no matter when you're born for sure with me you okay love every one of y'all no matter what sign you are january to december here's my open arms until fade beyonci was in love with sagittarius was in love with sagittarius was in love with sagittarius was in love with sagittarius\", \"if you love me come on get involved feel it rushinthrough you from your head to toe sing louder sing can you feel it all the guys in here don't even wanna dance can you feel it all that can hear is music from the back but can you feel it found you hidinhere so won't you take my hand darlinbefore the beat kicks in again can you feel it can you feel itfinalsing need you darling come on set the tone if you feel you're fallinwont you let me know louder sing if you love me come on get involved feel it rushinthrough you from your head to toe louder sing\")]\n"
     ]
    }
   ],
   "source": [
    "iterator = iter(train_loader)\n",
    "for batch_num, batch in enumerate(iterator):\n",
    "    print(batch)\n",
    "    break"
   ]
  },
  {
   "cell_type": "code",
   "execution_count": 581,
   "metadata": {},
   "outputs": [],
   "source": [
    "criterian = nn.CrossEntropyLoss(ignore_index=char_to_index[PAD_TOKEN], reduction='none')\n",
    "\n",
    "for params in transformer.parameters():\n",
    "    if params.dim() > 1:\n",
    "        nn.init.xavier_uniform_(params)\n",
    "\n",
    "optim = torch.optim.Adam(transformer.parameters(), lr=1e-4)\n",
    "device = torch.device('cuda') if torch.cuda.is_available() else torch.device('cpu')"
   ]
  },
  {
   "cell_type": "code",
   "execution_count": 582,
   "metadata": {},
   "outputs": [],
   "source": [
    "NEG_INFINITY = -1e9\n",
    "\n",
    "def create_masks(input_batch, output_batch):\n",
    "    num_lyrics = len(input_batch)\n",
    "    look_ahead_mask = torch.full([max_sequence_length, max_sequence_length], True)\n",
    "    look_ahead_mask = torch.triu(look_ahead_mask, diagonal=1)\n",
    "    encoder_padding_mask = torch.full([num_lyrics, max_sequence_length, max_sequence_length] , False)\n",
    "    decoder_padding_mask_self_attention = torch.full([num_lyrics, max_sequence_length, max_sequence_length] , False)\n",
    "    decoder_padding_mask_cross_attention = torch.full([num_lyrics, max_sequence_length, max_sequence_length] , False)\n",
    "\n",
    "    for idx in range(num_lyrics):\n",
    "        input_lyric_length, output_lyric_length = len(input_batch[idx]), len(output_batch[idx])\n",
    "        input_chars_to_padding_mask = np.arange(input_lyric_length + 1, max_sequence_length)\n",
    "        output_chars_to_padding_mask = np.arange(output_lyric_length + 1, max_sequence_length)\n",
    "        encoder_padding_mask[idx, :, input_chars_to_padding_mask] = True\n",
    "        encoder_padding_mask[idx, input_chars_to_padding_mask, :] = True\n",
    "        decoder_padding_mask_self_attention[idx, :, output_chars_to_padding_mask] = True\n",
    "        decoder_padding_mask_self_attention[idx, output_chars_to_padding_mask, :] = True\n",
    "        decoder_padding_mask_cross_attention[idx, :, input_chars_to_padding_mask] = True\n",
    "        decoder_padding_mask_cross_attention[idx, output_chars_to_padding_mask, :] = True\n",
    "\n",
    "    encoder_self_attention_mask = torch.where(encoder_padding_mask, NEG_INFINITY, 0)\n",
    "    decoder_self_attention_mask = torch.where(look_ahead_mask + decoder_padding_mask_self_attention, NEG_INFINITY, 0)\n",
    "    decoder_cross_attention_mask = torch.where(decoder_padding_mask_cross_attention, NEG_INFINITY, 0)\n",
    "    return encoder_self_attention_mask, decoder_self_attention_mask, decoder_cross_attention_mask"
   ]
  },
  {
   "cell_type": "code",
   "execution_count": 583,
   "metadata": {},
   "outputs": [
    {
     "name": "stdout",
     "output_type": "stream",
     "text": [
      "Epoch 0\n",
      "Iteration 0 : 7.907369613647461\n",
      "Input: baby got love for thee so deep inside of me don't know where to start yeah yeah love you more than anything but the words can't even touch what's in my heart no noprewhen try to explain it be sounding insane the words don't ever come out right get all tonguetied and twisted can't explain what i'm feeling and say baby baby ohwoah ohwoah baby baby oh baby oh baby my baby baby oh baby baby baby all i'm tryna say is you're my everything baby but every time try to say it words they only complicate it baby baby ohwoah ohwoah baby i'm so down for you no matter what you do real talk i'll be around yeah yeah ooh baby baby been feeling you before even knew what feelings were about oh babyprewhen try to explain it be sounding all crazy words don't ever come out right get all tonguetied and twisted can't explain what i'm feeling and say baby baby ohwoah ohwoah baby baby oh baby oh baby my baby baby oh baby baby baby all i'm tryna say is you're my everything baby but every time try to say it words they only complicate it baby baby ohwoah ohwoah baby baby oohwoah straight up you got me all in how could not be sure hope you know sure hope you know if it's even possible love you more than the word love can say yeah it's better not explaining\n",
      "Output: that's why keep saying baby oh baby oh baby my baby baby oh baby baby baby all i'm tryna say is you're my everything baby but every time try to say it words they only complicate it baby baby ohwoah ohwoah baby baby baby baby oh baby oh baby my baby baby oh baby baby baby all i'm tryna say is you're my everything baby but every time try to say it words they only complicate it every time try to say it words they only complicate it every time try to say it words they only complicate it baby baby ohwoah ohwoah baby baby\n",
      "Prediction: 収荷뜰뜰色았눈荷인荷눈節髪荷髪困研금荷現짹각荷収독誘독햇햇爪誘태挣士荷誘爪誘彷存태荷순存줄孝놈孝孝素놈쿨荷収シ残笑쏜벼았주爪爪爪爪爪았쿨았빚았았쭤荷랬팽벼듭벼把벼산亲把爪爪爪확독잠잠톱設爱잠분분の잠각爱플械잠컨빔爱멜亲켤把把플릭릭벼比플잠플ㅠㅠ분誤문把벼投독독낙잠벼벼いいㅠ순희ㅠ壁ㅠ髪분髪ㅠ축ㅠ덕벼い第第갖第第놔녕投릭산방갇素큐収把숫虚인큐彷彷彷六눈북플큐플큐큐把희벼벼릭節チ쿨周산孝ん릇벼독桜ぶ文분節六심큐六把六벼六辺독독連벼폈六把把把컨把닫빚夜독渇독때把값값독把把把六把값독갖값독독髪把把把把把把把瑰把큼彷彷節彷彷彷彷比람研曖플플북플쿨북券람갖독첩把節節節招招把날彷彷彷彷북彷각収컨収収収彷収機릭彷ルç핍듭듭オ북북オ람胸ح컨줄엉줄큐則胸把彷彷彷면則彷則희람把독인把六디람독순節節픔큐ㅠ독研짤잠빚旳잠짐독독독朴旳람독青독フ青희독면독면줄독독독係독節フ면収彷잠青鄭팽栄독람팽青フ잠잠잠잠잠벼썬節鄭썬節機機機썬썬節람썬è節벼얻節彷鄭彷彷彷è기漠기기立就立立기블기블栄電기電電기旳독フ펼六六漠節節릭블독縁백인増崩縁각縁縁밌펼縁릿縁릿節펼漠켰節研썬璧순독맛軽節節軽독덕縁ッフ想フ誤鄭독북歳フフ딧접접람フフフフフフ縁縁フ희フ핍핍독u六節節밌フ접節기속속속初フ設フフ기겟浮겟軽겟フ뭘aaaa릿기후就就라就就券후好栄好幾拒ポ기就잠拒拒ル拒霧줄快拒拒節渇拒拒ぎ줄줄솜줄찔기係係잠잠잠ぁ잠잠節渇잠잠잠疲잠독잠독릇잠엉줄允袋잠袋袋袋袋袋바袋袋袋拒拒잠파彷素쟁북칼쥔쥔쥔미미라톱육把팬換씁太袋엉엉엉孝暖릇릇릇設코設독ò換엉換호엉북기히히鳴械았희軽좁目좁炎軽톱릇플コ북浮栄有栄펼栄傷몰快맞青맞플研研拒青았았浮研티研계각フ浮호호베았았았호호호換幾素拒호테到칼軽았a았袋離れ바았れ엉각れれ았離았았았았았았研拒았았았目六青호覗塵순리흐작締았았흙炎フ밌昨았았독털털털털色았璧았았았았았았았注았았色璧인큐인色六璧色큐璧締六았았았쭤覗컨맞쭤맞인覗큐確인인인인얻큐큐큐친큐친れ인깜把인큐인인把把把밌孝締両북군군큐큐큐큐정큐困군큐았큐인인독인把把把把순把把困인換士인기기찔把떼把컴把쟁把칼目았효았目目군독쟁쟁았독솜기북북軽군把軽属랍換孝目았기기亲엉찔랬맞북맞色북孝把독太독z攻기았찔찔았機正찔솜色軽았色았솜軽았찮쟁色軽軽把色械把專펴収專太떡到把把인到把넘軽六았械았収色집샤집인인인券톱끝끝북펴앨호軽찔찔찔軽忘찔把把았節節把把핵収았았북았펴収기펴호収호람인람류軽맴軽았았았았았았엉았았았았았았인인인인인인았u류았인았把독기把快았았았把기기기完눈把把았았把마톱털青독잠彷았았얻얻困독펴軽독쏜쏜독독독忘독六忘困渇독독困六았渇軽정겟春독얻設太後랜さ下設設把把把把펴そ춘そそ춤そ독أ誘았璧퇴納덕퇴독퇴독독독았把把討썬下랜把랜뿌북쥔독쥔엉把쥔쥔았았티忘독엉북숑情독독把았把把독んん把チ북항북았袋았散快快締快았쥔下덕인독딨械벼夢現現現唯엉칼飽엉現袋좇飽ん設亲좇士붙士覗士設엉設士亲袋袋ん쥔飽袋엉そ色香んん치엉語노엉覗뿌袋마袋袋袋袋覗袋독困袋袋숑袋袋뿌뿌뿌んデデ킬そ把把독そ엉엉엉독覗앨語デデ語語쭤そ춘そ탕붙デそ쟤語そ語춘そ準춘そ붙쟤袋았라أそ쟤そそ람노뿌겟亲覗죗노収収치故機揺릭六把そ큐프릭牽械捨줄快替故飽쟤쟤飽亲飽飽飽큐큐팽デ으牽뿌奢緒士썬훌훌収훌훌南語썬故훌ㅠ緒下語下覗기族械械唯녹썬下낭惜낭낭緒納라地껄뿌曖인納納أ샤펴기샤인u彷뱉낭運彷運기彷기亲껄훌亲뿌伸탕탕탕펴탕기뿌語기唯미語唯戻أ色ビ彷독把독탕독독독옆독捨青友語軽底탕독독독亲語緒色탕탕탕拒友友友友戻잠友戻校범節잠잠으범기覗범범語友亲亲亲亲亲覗라亲亲亲緒독독독亲범독緒독줄緒독독범독독썬독독亲독亲독독독독독독亲亲ルルル亲亲抱ル쳇독쳇독髪쳇쳇髪쳇亲亲現亲荷亲후彷彷彷彷彷후후亲亲亲亲썬亲亲독亲독已독독독독독亲亲독袋亲亲亲亲討放호았독았독독독았독독독썬緒亲デ亲독독독緒희독亲亲독亲았았았독았북독잠독독독독髪亲亲독亲독亲拒亲독독독독독톱독독톱亲톱독독拒톱髪미미亲亲큐큐큐战깨독所독독냘큐았낭았앨범독節싶祈祈았독독亲亲쥔到亲플티矛亲亲낭亲亲亲緒亲緒인인ム인亲인亲인真톱미虚战战인덤閉已已덤인複複독色인독썬ん썬낭썬ル썬독썬來썬來았독독독픔所미拒독å孝ャ미았所육鳴폴色共낭渇덤죗把죗把인複j浮覗인複줍죙所았았緒把複把把列已인범인浮血북t낭彷彷북dd孝把샤샤战육渇지渇샤큐큐色쭤좋氣把군声彷浮浮뿌色把色\n",
      "Epoch 1\n",
      "Iteration 0 : 3.03122878074646\n",
      "Input: baby got love for thee so deep inside of me don't know where to start yeah yeah love you more than anything but the words can't even touch what's in my heart no noprewhen try to explain it be sounding insane the words don't ever come out right get all tonguetied and twisted can't explain what i'm feeling and say baby baby ohwoah ohwoah baby baby oh baby oh baby my baby baby oh baby baby baby all i'm tryna say is you're my everything baby but every time try to say it words they only complicate it baby baby ohwoah ohwoah baby i'm so down for you no matter what you do real talk i'll be around yeah yeah ooh baby baby been feeling you before even knew what feelings were about oh babyprewhen try to explain it be sounding all crazy words don't ever come out right get all tonguetied and twisted can't explain what i'm feeling and say baby baby ohwoah ohwoah baby baby oh baby oh baby my baby baby oh baby baby baby all i'm tryna say is you're my everything baby but every time try to say it words they only complicate it baby baby ohwoah ohwoah baby baby oohwoah straight up you got me all in how could not be sure hope you know sure hope you know if it's even possible love you more than the word love can say yeah it's better not explaining\n",
      "Output: that's why keep saying baby oh baby oh baby my baby baby oh baby baby baby all i'm tryna say is you're my everything baby but every time try to say it words they only complicate it baby baby ohwoah ohwoah baby baby baby baby oh baby oh baby my baby baby oh baby baby baby all i'm tryna say is you're my everything baby but every time try to say it words they only complicate it every time try to say it words they only complicate it every time try to say it words they only complicate it baby baby ohwoah ohwoah baby baby\n",
      "Prediction:                                                                                                                                                                                                                                                                                                                                                                                                                                                                                                                                                                                                                                                                                                                                                                                                                                                                                                                                                                                                                                                                                                                                                                                                                                                                                                                                                                                                                                                                                                                                                                                                                                                                                                                  e                                                                                                                                                      \n"
     ]
    }
   ],
   "source": [
    "transformer.train()\n",
    "transformer.to(device)\n",
    "total_loss = 0\n",
    "num_epochs = 10\n",
    "\n",
    "for epoch in range(num_epochs):\n",
    "    print(f\"Epoch {epoch}\")\n",
    "    iterator = iter(train_loader)\n",
    "    for batch_num, batch in enumerate(iterator):\n",
    "        transformer.train()\n",
    "        input_batch, output_batch = batch\n",
    "        encoder_self_attention_mask, decoder_self_attention_mask, decoder_cross_attention_mask = create_masks(input_batch, output_batch)\n",
    "        optim.zero_grad()\n",
    "        output_predictions = transformer(\n",
    "            input_batch,\n",
    "            output_batch,\n",
    "            encoder_self_attention_mask.to(device),\n",
    "            decoder_self_attention_mask.to(device),\n",
    "            decoder_cross_attention_mask.to(device),\n",
    "            enc_start_token=False,\n",
    "            enc_end_token=False,\n",
    "            dec_start_token=True,\n",
    "            dec_end_token=True\n",
    "        )\n",
    "        labels = transformer.decoder.sentence_embedding.batch_tokenize(output_batch, start_token=False, end_token=True)\n",
    "        loss = criterian(output_predictions.view(-1, vocab_size).to(device), labels.view(-1).to(device)).to(device)\n",
    "        valid_indicies = torch.where(labels.view(-1) == char_to_index[PAD_TOKEN], False, True)\n",
    "        loss = loss.sum() / valid_indicies.sum()\n",
    "        loss.backward()\n",
    "        optim.step()\n",
    "        if batch_num % 100 == 0:\n",
    "            print(f\"Iteration {batch_num} : {loss.item()}\")\n",
    "            print(f\"Input: {input_batch[0]}\")\n",
    "            print(f\"Output: {output_batch[0]}\")\n",
    "            output_predicted = torch.argmax(output_predictions[0], axis=1)\n",
    "            predicted_lyric = \"\"\n",
    "            for idx in output_predicted:\n",
    "              if idx == char_to_index[END_TOKEN]:\n",
    "                break\n",
    "              predicted_lyric += index_to_char[idx.item()]\n",
    "            print(f\"Prediction: {predicted_lyric}\")\n",
    "            transformer.eval()"
   ]
  },
  {
   "cell_type": "code",
   "execution_count": null,
   "metadata": {},
   "outputs": [],
   "source": []
  }
 ],
 "metadata": {
  "kernelspec": {
   "display_name": "Python 3",
   "language": "python",
   "name": "python3"
  },
  "language_info": {
   "codemirror_mode": {
    "name": "ipython",
    "version": 3
   },
   "file_extension": ".py",
   "mimetype": "text/x-python",
   "name": "python",
   "nbconvert_exporter": "python",
   "pygments_lexer": "ipython3",
   "version": "3.10.3"
  },
  "orig_nbformat": 4
 },
 "nbformat": 4,
 "nbformat_minor": 2
}
