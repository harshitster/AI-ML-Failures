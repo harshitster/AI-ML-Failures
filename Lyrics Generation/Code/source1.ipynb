{
 "cells": [
  {
   "cell_type": "code",
   "execution_count": 2,
   "metadata": {},
   "outputs": [],
   "source": [
    "import pandas as pd\n",
    "import numpy\n",
    "import os"
   ]
  },
  {
   "attachments": {},
   "cell_type": "markdown",
   "metadata": {},
   "source": [
    "Data Preprocess"
   ]
  },
  {
   "cell_type": "code",
   "execution_count": 3,
   "metadata": {},
   "outputs": [],
   "source": [
    "def readData(path, languages, attribute):\n",
    "    \n",
    "    lyrics_data = pd.read_csv(path)\n",
    "    lyrics_data = lyrics_data.dropna()\n",
    "    lyrics_data = lyrics_data[lyrics_data.language.isin(languages)]\n",
    "    lyrics = lyrics_data[attribute].values\n",
    "\n",
    "    return lyrics"
   ]
  },
  {
   "cell_type": "code",
   "execution_count": 5,
   "metadata": {},
   "outputs": [],
   "source": [
    "lyrics = readData('/Applications/ML projects/Song Lyrics/Dataset - 1/lyrics-data.csv', ['en'], 'Lyric')"
   ]
  },
  {
   "cell_type": "code",
   "execution_count": 7,
   "metadata": {},
   "outputs": [],
   "source": [
    "def tokenization(lyrics, max_words):\n",
    "    hashmap1 = {}\n",
    "    for lyric in lyrics:\n",
    "        for word in lyric:\n",
    "            if word not in hashmap1:\n",
    "                hashmap1[word] = 1\n",
    "            else:\n",
    "                hashmap1[word] += 1\n",
    "\n",
    "    max_frequency = max(hashmap1.values()) + 1\n",
    "    ranks = []\n",
    "    hashmap2 = {}\n",
    "    for key in hashmap1.keys():\n",
    "        rank = max_frequency - hashmap1[key]\n",
    "        hashmap2[key] = rank\n",
    "        ranks.append(rank)\n",
    "    ranks = sorted(ranks)\n",
    "    threshold_rank = ranks[max_words]\n",
    "\n",
    "    hashmap2Keys = hashmap2.keys()\n",
    "    for key in hashmap2Keys:\n",
    "        if hashmap2[key] >= threshold_rank:\n",
    "            ranks.remove(hashmap2[key])\n",
    "            hashmap2[key] = -1\n",
    "    ranks = sorted(ranks)\n",
    "\n",
    "    tokenizer = {}\n",
    "    for key in hashmap2.keys():\n",
    "        if hashmap2[key] != -1:\n",
    "            rank = ranks.index(hashmap2[key]) + 1\n",
    "            tokenizer[key] = rank\n",
    "        \n",
    "    tokenized_lyrics = []\n",
    "    for lyric in lyrics:\n",
    "        temp = []\n",
    "        for word in lyric:\n",
    "            if word in tokenizer:\n",
    "                temp.append(tokenizer[word])\n",
    "        tokenized_lyrics.append(temp)\n",
    "\n",
    "    return tokenized_lyrics, tokenizer"
   ]
  },
  {
   "cell_type": "code",
   "execution_count": 8,
   "metadata": {},
   "outputs": [],
   "source": [
    "def normalization(tokenized_lyrics, tokenizer):\n",
    "    max_rank = float(max(tokenizer.values()))\n",
    "    for i in range(len(tokenized_lyrics)):\n",
    "        for j in range(len(tokenized_lyrics[i])):\n",
    "            tokenized_lyrics[i][j] = tokenized_lyrics[i][j] / max_rank"
   ]
  },
  {
   "cell_type": "code",
   "execution_count": 9,
   "metadata": {},
   "outputs": [],
   "source": [
    "def preprocess(lyrics, max_words, strip):\n",
    "    split_lyrics = []\n",
    "\n",
    "    for lyric in lyrics:\n",
    "        split_lyrics.append(lyric.split(' '))\n",
    "\n",
    "    tokenized_lyrics, tokenizer = tokenization(split_lyrics, max_words)\n",
    "    normalization(tokenized_lyrics, tokenizer)\n",
    "    \n",
    "    normalized_lyrics = sorted(tokenized_lyrics, key=len)\n",
    "    length = len(normalized_lyrics)\n",
    "    lower_strip = int(strip * length)\n",
    "    higher_strip = length - lower_strip\n",
    "    LYRICS = normalized_lyrics[lower_strip: higher_strip]\n",
    "\n",
    "    return LYRICS, tokenizer"
   ]
  },
  {
   "cell_type": "code",
   "execution_count": 10,
   "metadata": {},
   "outputs": [
    {
     "ename": "KeyboardInterrupt",
     "evalue": "",
     "output_type": "error",
     "traceback": [
      "\u001b[0;31m---------------------------------------------------------------------------\u001b[0m",
      "\u001b[0;31mKeyboardInterrupt\u001b[0m                         Traceback (most recent call last)",
      "\u001b[1;32m/Applications/ML projects/Song Lyrics/Code/source1.ipynb Cell 8\u001b[0m in \u001b[0;36m<cell line: 1>\u001b[0;34m()\u001b[0m\n\u001b[0;32m----> <a href='vscode-notebook-cell:/Applications/ML%20projects/Song%20Lyrics/Code/source1.ipynb#X34sZmlsZQ%3D%3D?line=0'>1</a>\u001b[0m LYRICS, TOKENIZER \u001b[39m=\u001b[39m preprocess(lyrics, \u001b[39m5000\u001b[39;49m, \u001b[39m0.2\u001b[39;49m)\n",
      "\u001b[1;32m/Applications/ML projects/Song Lyrics/Code/source1.ipynb Cell 8\u001b[0m in \u001b[0;36mpreprocess\u001b[0;34m(lyrics, max_words, strip)\u001b[0m\n\u001b[1;32m      <a href='vscode-notebook-cell:/Applications/ML%20projects/Song%20Lyrics/Code/source1.ipynb#X34sZmlsZQ%3D%3D?line=3'>4</a>\u001b[0m \u001b[39mfor\u001b[39;00m lyric \u001b[39min\u001b[39;00m lyrics:\n\u001b[1;32m      <a href='vscode-notebook-cell:/Applications/ML%20projects/Song%20Lyrics/Code/source1.ipynb#X34sZmlsZQ%3D%3D?line=4'>5</a>\u001b[0m     split_lyrics\u001b[39m.\u001b[39mappend(lyric\u001b[39m.\u001b[39msplit(\u001b[39m'\u001b[39m\u001b[39m \u001b[39m\u001b[39m'\u001b[39m))\n\u001b[0;32m----> <a href='vscode-notebook-cell:/Applications/ML%20projects/Song%20Lyrics/Code/source1.ipynb#X34sZmlsZQ%3D%3D?line=6'>7</a>\u001b[0m tokenized_lyrics, tokenizer \u001b[39m=\u001b[39m tokenization(split_lyrics, max_words)\n\u001b[1;32m      <a href='vscode-notebook-cell:/Applications/ML%20projects/Song%20Lyrics/Code/source1.ipynb#X34sZmlsZQ%3D%3D?line=7'>8</a>\u001b[0m normalization(tokenized_lyrics, tokenizer)\n\u001b[1;32m     <a href='vscode-notebook-cell:/Applications/ML%20projects/Song%20Lyrics/Code/source1.ipynb#X34sZmlsZQ%3D%3D?line=9'>10</a>\u001b[0m normalized_lyrics \u001b[39m=\u001b[39m \u001b[39msorted\u001b[39m(tokenized_lyrics, key\u001b[39m=\u001b[39m\u001b[39mlen\u001b[39m)\n",
      "\u001b[1;32m/Applications/ML projects/Song Lyrics/Code/source1.ipynb Cell 8\u001b[0m in \u001b[0;36mtokenization\u001b[0;34m(lyrics, max_words)\u001b[0m\n\u001b[1;32m     <a href='vscode-notebook-cell:/Applications/ML%20projects/Song%20Lyrics/Code/source1.ipynb#X34sZmlsZQ%3D%3D?line=20'>21</a>\u001b[0m \u001b[39mfor\u001b[39;00m key \u001b[39min\u001b[39;00m hashmap2Keys:\n\u001b[1;32m     <a href='vscode-notebook-cell:/Applications/ML%20projects/Song%20Lyrics/Code/source1.ipynb#X34sZmlsZQ%3D%3D?line=21'>22</a>\u001b[0m     \u001b[39mif\u001b[39;00m hashmap2[key] \u001b[39m>\u001b[39m\u001b[39m=\u001b[39m threshold_rank:\n\u001b[0;32m---> <a href='vscode-notebook-cell:/Applications/ML%20projects/Song%20Lyrics/Code/source1.ipynb#X34sZmlsZQ%3D%3D?line=22'>23</a>\u001b[0m         ranks\u001b[39m.\u001b[39;49mremove(hashmap2[key])\n\u001b[1;32m     <a href='vscode-notebook-cell:/Applications/ML%20projects/Song%20Lyrics/Code/source1.ipynb#X34sZmlsZQ%3D%3D?line=23'>24</a>\u001b[0m         hashmap2[key] \u001b[39m=\u001b[39m \u001b[39m-\u001b[39m\u001b[39m1\u001b[39m\n\u001b[1;32m     <a href='vscode-notebook-cell:/Applications/ML%20projects/Song%20Lyrics/Code/source1.ipynb#X34sZmlsZQ%3D%3D?line=24'>25</a>\u001b[0m ranks \u001b[39m=\u001b[39m \u001b[39msorted\u001b[39m(ranks)\n",
      "\u001b[0;31mKeyboardInterrupt\u001b[0m: "
     ]
    }
   ],
   "source": [
    "LYRICS, TOKENIZER = preprocess(lyrics, 5000, 0.2)"
   ]
  },
  {
   "cell_type": "code",
   "execution_count": null,
   "metadata": {},
   "outputs": [],
   "source": []
  }
 ],
 "metadata": {
  "kernelspec": {
   "display_name": "Python 3",
   "language": "python",
   "name": "python3"
  },
  "language_info": {
   "codemirror_mode": {
    "name": "ipython",
    "version": 3
   },
   "file_extension": ".py",
   "mimetype": "text/x-python",
   "name": "python",
   "nbconvert_exporter": "python",
   "pygments_lexer": "ipython3",
   "version": "3.10.3"
  },
  "orig_nbformat": 4
 },
 "nbformat": 4,
 "nbformat_minor": 2
}
