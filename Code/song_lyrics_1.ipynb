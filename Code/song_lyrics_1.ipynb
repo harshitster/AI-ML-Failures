{
  "nbformat": 4,
  "nbformat_minor": 0,
  "metadata": {
    "colab": {
      "provenance": [],
      "machine_shape": "hm"
    },
    "kernelspec": {
      "name": "python3",
      "display_name": "Python 3"
    },
    "language_info": {
      "name": "python"
    },
    "accelerator": "GPU",
    "gpuClass": "premium"
  },
  "cells": [
    {
      "cell_type": "code",
      "execution_count": 1,
      "metadata": {
        "colab": {
          "base_uri": "https://localhost:8080/"
        },
        "id": "4997mOz0bjdR",
        "outputId": "7ebe361a-2c48-42ed-c02b-417bc0089718"
      },
      "outputs": [
        {
          "output_type": "stream",
          "name": "stdout",
          "text": [
            "Mounted at /content/drive/\n"
          ]
        }
      ],
      "source": [
        "from google.colab import drive\n",
        "drive.mount('/content/drive/')"
      ]
    },
    {
      "cell_type": "code",
      "source": [
        "import numpy as np\n",
        "import pandas as pd\n",
        "import os\n",
        "from tqdm import tqdm"
      ],
      "metadata": {
        "id": "z7P_p4kwd5ha"
      },
      "execution_count": 2,
      "outputs": []
    },
    {
      "cell_type": "code",
      "source": [
        "data = '/content/drive/MyDrive/ML datasets/Dataset - 2/archive/reduced_csv'"
      ],
      "metadata": {
        "id": "_VVBZo4beLl0"
      },
      "execution_count": 3,
      "outputs": []
    },
    {
      "cell_type": "markdown",
      "source": [
        "Data Read"
      ],
      "metadata": {
        "id": "ecxdu37ygKqh"
      }
    },
    {
      "cell_type": "code",
      "source": [
        "def read_csv(data):\n",
        "  lyrics = []\n",
        "  for CSV_FILE in tqdm(os.listdir(data)):\n",
        "    CSV_FILE_PATH = os.path.join(data, CSV_FILE)\n",
        "    DF = pd.read_csv(CSV_FILE_PATH)\n",
        "    DF = DF.dropna()\n",
        "    DF_LYRICS = DF['Lyric'].values\n",
        "    for LYRIC in DF_LYRICS:\n",
        "      lyrics.append(LYRIC)\n",
        "  return lyrics\n"
      ],
      "metadata": {
        "id": "_j0vrO1CftEG"
      },
      "execution_count": 4,
      "outputs": []
    },
    {
      "cell_type": "code",
      "source": [
        "lyrics = read_csv(data)"
      ],
      "metadata": {
        "id": "RtzP7sHlhLKp",
        "colab": {
          "base_uri": "https://localhost:8080/"
        },
        "outputId": "f69ca095-8ab7-474d-c90e-4406f612bc5e"
      },
      "execution_count": 5,
      "outputs": [
        {
          "output_type": "stream",
          "name": "stderr",
          "text": [
            "100%|██████████| 1/1 [00:00<00:00,  1.41it/s]\n"
          ]
        }
      ]
    },
    {
      "cell_type": "code",
      "source": [
        "len(lyrics)"
      ],
      "metadata": {
        "colab": {
          "base_uri": "https://localhost:8080/"
        },
        "id": "55OYRTcGhO8D",
        "outputId": "ff8be38e-a53b-450b-b8fe-3d1f96fa99f7"
      },
      "execution_count": 6,
      "outputs": [
        {
          "output_type": "execute_result",
          "data": {
            "text/plain": [
              "63"
            ]
          },
          "metadata": {},
          "execution_count": 6
        }
      ]
    },
    {
      "cell_type": "markdown",
      "source": [
        "Data Preprocessing"
      ],
      "metadata": {
        "id": "gF_EaiCahlrv"
      }
    },
    {
      "cell_type": "code",
      "source": [
        "def clean_lyrics(lyrics):\n",
        "  for i in tqdm(range(len(lyrics))):\n",
        "    lyric = lyrics[i]\n",
        "    lyric = lyric.lower()\n",
        "    lyric = lyric.replace('[^A-Za-z]', '')\n",
        "    lyric = lyric.replace('\\s+', ' ')\n",
        "    lyric = \" \".join([word for word in lyric.split() if len(word) > 1])\n",
        "    lyrics[i] = lyric"
      ],
      "metadata": {
        "id": "BPr4wwuOhZVq"
      },
      "execution_count": 7,
      "outputs": []
    },
    {
      "cell_type": "code",
      "source": [
        "lyrics[0]"
      ],
      "metadata": {
        "colab": {
          "base_uri": "https://localhost:8080/",
          "height": 120
        },
        "id": "87iRGKPIijTH",
        "outputId": "52eec78c-ea2d-4a92-89ff-98e0637ee172"
      },
      "execution_count": 8,
      "outputs": [
        {
          "output_type": "execute_result",
          "data": {
            "text/plain": [
              "\"post malone hahahahaha tank god ayy ayy   post malone i've been fuckin' hoes and poppin' pillies man i feel just like a rockstar star ayy ayy all my brothers got that gas and they always be smokin' like a rasta 'sta fuckin' with me call up on a uzi and show up man them the shottas 'tas when my homies pull up on your block they make that thing go grrratatata ta pow pow pow ayy ayy   post malone switch my whip came back in black i'm startin' sayin' rest in peace to bon scott scott ayy close that door we blowin' smoke she ask me light a fire like i'm morrison 'son ayy act a fool on stage prolly leave my fuckin' show in a cop car car ayy shit was legendary threw a tv out the window of the montage cocaine on the table liquor pourin' don't give a damn dude your girlfriend is a groupie she just tryna get in sayin' i'm with the band ayy ayy now she actin' outta pocket tryna grab up on my pants hundred bitches in my trailer say they ain't got a man and they all brought a friend yeah ayy ayy ayy   post malone i've been fuckin' hoes and poppin' pillies man i feel just like a rockstar star ayy ayy all my brothers got that gas and they always be smokin' like a rasta 'sta fuckin' with me call up on a uzi and show up man them the shottas 'tas when my homies pull up on your block they make that thing go grrratatata ta pow pow pow    savage i've been in the hills fuckin' superstars feelin' like a popstar    drankin' henny bad bitches jumpin' in the pool and they ain't got on no bra bra hit her from the back pullin' on her tracks and now she screamin' out no más yeah yeah yeah they like savage why you got a  car garage and you only got six cars  i ain't with the cakin' how you kiss that kiss that your wifey say i'm lookin' like a whole snack big snack green hundreds in my safe i got old racks old racks la bitches always askin' where the coke at   livin' like a rockstar smash out on a cop car sweeter than a poptart you know you are not hard i done made the hot chart 'member i used to trap hard livin' like a rockstar i'm livin' like a rockstar ayy   post malone   savage i've been fuckin' hoes and poppin' pillies man i feel just like a rockstar star ayy ayy all my brothers got that gas and they always be smokin' like a rasta 'sta yeah yeah yeah yeah fuckin' with me call up on a uzi and show up man them the shottas 'tas when my homies pull up on your block they make that thing go grrratatata ta grrratatatata   post malone star star rockstar rockstar star rockstar rockstar feel just like a rock rockstar rockstar rockstar feel just like a\""
            ],
            "application/vnd.google.colaboratory.intrinsic+json": {
              "type": "string"
            }
          },
          "metadata": {},
          "execution_count": 8
        }
      ]
    },
    {
      "cell_type": "code",
      "source": [
        "clean_lyrics(lyrics)"
      ],
      "metadata": {
        "colab": {
          "base_uri": "https://localhost:8080/"
        },
        "id": "jLiLR7IwiOBm",
        "outputId": "cd652747-e29c-4e86-f59d-4ff3bfa62150"
      },
      "execution_count": 9,
      "outputs": [
        {
          "output_type": "stream",
          "name": "stderr",
          "text": [
            "100%|██████████| 63/63 [00:00<00:00, 8800.41it/s]\n"
          ]
        }
      ]
    },
    {
      "cell_type": "code",
      "source": [
        "lyrics[0]"
      ],
      "metadata": {
        "colab": {
          "base_uri": "https://localhost:8080/",
          "height": 120
        },
        "id": "N4FRjexJiTZr",
        "outputId": "e452d140-98af-4e2e-e299-ef14e69718bf"
      },
      "execution_count": 10,
      "outputs": [
        {
          "output_type": "execute_result",
          "data": {
            "text/plain": [
              "\"post malone hahahahaha tank god ayy ayy post malone i've been fuckin' hoes and poppin' pillies man feel just like rockstar star ayy ayy all my brothers got that gas and they always be smokin' like rasta 'sta fuckin' with me call up on uzi and show up man them the shottas 'tas when my homies pull up on your block they make that thing go grrratatata ta pow pow pow ayy ayy post malone switch my whip came back in black i'm startin' sayin' rest in peace to bon scott scott ayy close that door we blowin' smoke she ask me light fire like i'm morrison 'son ayy act fool on stage prolly leave my fuckin' show in cop car car ayy shit was legendary threw tv out the window of the montage cocaine on the table liquor pourin' don't give damn dude your girlfriend is groupie she just tryna get in sayin' i'm with the band ayy ayy now she actin' outta pocket tryna grab up on my pants hundred bitches in my trailer say they ain't got man and they all brought friend yeah ayy ayy ayy post malone i've been fuckin' hoes and poppin' pillies man feel just like rockstar star ayy ayy all my brothers got that gas and they always be smokin' like rasta 'sta fuckin' with me call up on uzi and show up man them the shottas 'tas when my homies pull up on your block they make that thing go grrratatata ta pow pow pow savage i've been in the hills fuckin' superstars feelin' like popstar drankin' henny bad bitches jumpin' in the pool and they ain't got on no bra bra hit her from the back pullin' on her tracks and now she screamin' out no más yeah yeah yeah they like savage why you got car garage and you only got six cars ain't with the cakin' how you kiss that kiss that your wifey say i'm lookin' like whole snack big snack green hundreds in my safe got old racks old racks la bitches always askin' where the coke at livin' like rockstar smash out on cop car sweeter than poptart you know you are not hard done made the hot chart 'member used to trap hard livin' like rockstar i'm livin' like rockstar ayy post malone savage i've been fuckin' hoes and poppin' pillies man feel just like rockstar star ayy ayy all my brothers got that gas and they always be smokin' like rasta 'sta yeah yeah yeah yeah fuckin' with me call up on uzi and show up man them the shottas 'tas when my homies pull up on your block they make that thing go grrratatata ta grrratatatata post malone star star rockstar rockstar star rockstar rockstar feel just like rock rockstar rockstar rockstar feel just like\""
            ],
            "application/vnd.google.colaboratory.intrinsic+json": {
              "type": "string"
            }
          },
          "metadata": {},
          "execution_count": 10
        }
      ]
    },
    {
      "cell_type": "code",
      "source": [
        "from keras.preprocessing.text import Tokenizer"
      ],
      "metadata": {
        "id": "qAPhMF9linym"
      },
      "execution_count": 11,
      "outputs": []
    },
    {
      "cell_type": "code",
      "source": [
        "tokenizer = Tokenizer()\n",
        "tokenizer.fit_on_texts(lyrics)\n",
        "vocab_size = len(tokenizer.word_index) + 1\n",
        "vocab_size"
      ],
      "metadata": {
        "colab": {
          "base_uri": "https://localhost:8080/"
        },
        "id": "uzcezKOfi32n",
        "outputId": "e3805c02-a95c-4521-bbe5-615efbc484dd"
      },
      "execution_count": 12,
      "outputs": [
        {
          "output_type": "execute_result",
          "data": {
            "text/plain": [
              "2506"
            ]
          },
          "metadata": {},
          "execution_count": 12
        }
      ]
    },
    {
      "cell_type": "code",
      "source": [
        "max_len = max(len(lyric.split()) for lyric in lyrics)\n",
        "max_len"
      ],
      "metadata": {
        "colab": {
          "base_uri": "https://localhost:8080/"
        },
        "id": "ptb7vSZ0jLoM",
        "outputId": "45dcb18f-3f07-4057-aea0-c4f55fa74a3f"
      },
      "execution_count": 13,
      "outputs": [
        {
          "output_type": "execute_result",
          "data": {
            "text/plain": [
              "902"
            ]
          },
          "metadata": {},
          "execution_count": 13
        }
      ]
    },
    {
      "cell_type": "code",
      "source": [
        "tokenized_lyrics = tokenizer.texts_to_sequences(lyrics)"
      ],
      "metadata": {
        "id": "PpGoHwAZjdGu"
      },
      "execution_count": 14,
      "outputs": []
    },
    {
      "cell_type": "code",
      "source": [
        "input_lyrics = []\n",
        "for tokenized_lyric in tqdm(tokenized_lyrics):\n",
        "  for i in range(1, len(tokenized_lyric)):\n",
        "    input_lyric = tokenized_lyric[:i + 1]\n",
        "    input_lyrics.append(input_lyric)"
      ],
      "metadata": {
        "colab": {
          "base_uri": "https://localhost:8080/"
        },
        "id": "MAIp-LjYjuRL",
        "outputId": "1f23652d-2d97-4eb4-99b3-75fb80b41cf8"
      },
      "execution_count": 15,
      "outputs": [
        {
          "output_type": "stream",
          "name": "stderr",
          "text": [
            "100%|██████████| 63/63 [00:00<00:00, 650.13it/s]\n"
          ]
        }
      ]
    },
    {
      "cell_type": "code",
      "source": [
        "from tensorflow.keras.preprocessing.sequence import pad_sequences"
      ],
      "metadata": {
        "id": "r9LXk0IckgF5"
      },
      "execution_count": 16,
      "outputs": []
    },
    {
      "cell_type": "code",
      "source": [
        "input_lyrics = np.array(pad_sequences(input_lyrics, maxlen=max_len, padding='pre'))"
      ],
      "metadata": {
        "id": "wNScS4xCkmoh"
      },
      "execution_count": 17,
      "outputs": []
    },
    {
      "cell_type": "code",
      "source": [
        "from keras.utils import to_categorical"
      ],
      "metadata": {
        "id": "y87layU4k1UR"
      },
      "execution_count": 18,
      "outputs": []
    },
    {
      "cell_type": "code",
      "source": [
        "X, labels = input_lyrics[:, :-1], input_lyrics[:, -1]\n",
        "y = to_categorical(labels, num_classes=vocab_size)"
      ],
      "metadata": {
        "id": "Vn2xcjjWlA9W"
      },
      "execution_count": 19,
      "outputs": []
    },
    {
      "cell_type": "markdown",
      "source": [
        "Model"
      ],
      "metadata": {
        "id": "IWRSYGpalV5f"
      }
    },
    {
      "cell_type": "code",
      "source": [
        "from keras.models import Sequential\n",
        "from keras.layers import Embedding, Dropout, LSTM, Dense, Bidirectional\n",
        "from keras.callbacks import EarlyStopping\n",
        "from keras.models import load_model"
      ],
      "metadata": {
        "id": "megSZhW7lT8Z"
      },
      "execution_count": 20,
      "outputs": []
    },
    {
      "cell_type": "code",
      "source": [
        "model = Sequential()\n",
        "\n",
        "model.add(Embedding(vocab_size, 64, input_length=max_len - 1, mask_zero=True))\n",
        "model.add(Bidirectional(LSTM(250)))\n",
        "model.add(Dropout(0.2))\n",
        "model.add(Dense(vocab_size, activation='softmax'))\n",
        "\n",
        "model.compile(loss='categorical_crossentropy', optimizer='adam', metrics=['accuracy'])\n",
        "model.summary()"
      ],
      "metadata": {
        "colab": {
          "base_uri": "https://localhost:8080/"
        },
        "id": "8OV-edG1lrW6",
        "outputId": "fc2c7304-e16c-4f41-93f2-09443ee85ff6"
      },
      "execution_count": null,
      "outputs": [
        {
          "output_type": "stream",
          "name": "stdout",
          "text": [
            "Model: \"sequential_6\"\n",
            "_________________________________________________________________\n",
            " Layer (type)                Output Shape              Param #   \n",
            "=================================================================\n",
            " embedding_6 (Embedding)     (None, 901, 64)           160384    \n",
            "                                                                 \n",
            " bidirectional_6 (Bidirectio  (None, 500)              630000    \n",
            " nal)                                                            \n",
            "                                                                 \n",
            " dropout_6 (Dropout)         (None, 500)               0         \n",
            "                                                                 \n",
            " dense_6 (Dense)             (None, 2506)              1255506   \n",
            "                                                                 \n",
            "=================================================================\n",
            "Total params: 2,045,890\n",
            "Trainable params: 2,045,890\n",
            "Non-trainable params: 0\n",
            "_________________________________________________________________\n"
          ]
        }
      ]
    },
    {
      "cell_type": "markdown",
      "source": [
        "Training Process"
      ],
      "metadata": {
        "id": "YR-xo-Rmmmca"
      }
    },
    {
      "cell_type": "code",
      "source": [
        "model.fit(X, y, epochs=2, verbose=1)\n",
        "model.save('/content/drive/MyDrive/ML datasets/Dataset - 2/archive/model_e1.h5')"
      ],
      "metadata": {
        "colab": {
          "base_uri": "https://localhost:8080/"
        },
        "id": "kEFTH-aEohBs",
        "outputId": "15d7e75a-65e6-44a3-e731-5441b1f38f03"
      },
      "execution_count": null,
      "outputs": [
        {
          "output_type": "stream",
          "name": "stdout",
          "text": [
            "Epoch 1/2\n",
            "865/865 [==============================] - 2124s 2s/step - loss: 6.1534 - accuracy: 0.0396\n",
            "Epoch 2/2\n",
            "865/865 [==============================] - 2076s 2s/step - loss: 5.2716 - accuracy: 0.1144\n"
          ]
        }
      ]
    },
    {
      "cell_type": "code",
      "source": [
        "model_path = '/content/drive/MyDrive/ML datasets/Dataset - 2/Models'"
      ],
      "metadata": {
        "id": "5ct8TewMV0dD"
      },
      "execution_count": 22,
      "outputs": []
    },
    {
      "cell_type": "code",
      "source": [
        "model_e2 = load_model(os.path.join(model_path, 'model_e1.h5'))"
      ],
      "metadata": {
        "id": "rtzwaV-JGhkd"
      },
      "execution_count": 23,
      "outputs": []
    },
    {
      "cell_type": "code",
      "source": [
        "model_e2.fit(X, y, epochs=5, verbose=1)\n",
        "model_e2.save(os.path.join(model_path, 'model_e7.h5'))"
      ],
      "metadata": {
        "colab": {
          "base_uri": "https://localhost:8080/"
        },
        "id": "YCdoZ-s3fd1k",
        "outputId": "9a42852b-66bd-4a07-ffb2-5a2658821824"
      },
      "execution_count": null,
      "outputs": [
        {
          "output_type": "stream",
          "name": "stdout",
          "text": [
            "Epoch 1/5\n",
            "865/865 [==============================] - 2413s 3s/step - loss: 4.3138 - accuracy: 0.2253\n",
            "Epoch 2/5\n",
            "865/865 [==============================] - 2347s 3s/step - loss: 3.4698 - accuracy: 0.3305\n",
            "Epoch 3/5\n",
            "865/865 [==============================] - 2343s 3s/step - loss: 2.8375 - accuracy: 0.4165\n",
            "Epoch 4/5\n",
            "865/865 [==============================] - 2339s 3s/step - loss: 2.3494 - accuracy: 0.4953\n",
            "Epoch 5/5\n",
            "865/865 [==============================] - 2348s 3s/step - loss: 1.9794 - accuracy: 0.5610\n"
          ]
        }
      ]
    },
    {
      "cell_type": "markdown",
      "source": [
        "Lyrics Generations"
      ],
      "metadata": {
        "id": "IKcXA_Q2oXh4"
      }
    },
    {
      "cell_type": "code",
      "source": [
        "model = load_model(os.path.join(model_path, 'model_e7.h5'))"
      ],
      "metadata": {
        "id": "cfBA8BD4fx3H"
      },
      "execution_count": 24,
      "outputs": []
    },
    {
      "cell_type": "code",
      "source": [
        "def generate_lyrics(input_lyrics, tokenizer, max_len):\n",
        "  next_words = 100\n",
        "  \n",
        "  for _ in range(next_words):\n",
        "    tokenized_input = tokenizer.texts_to_sequences([input_lyrics])[0]\n",
        "    padded_input = pad_sequences([tokenized_input], maxlen=max_len - 1, padding='pre')\n",
        "    predicted = np.argmax(model.predict(padded_input, verbose=0), axis=-1)\n",
        "\n",
        "    output_word = ''\n",
        "    for word, index in tokenizer.word_index.items():\n",
        "      if index == predicted:\n",
        "        output_word = word\n",
        "        break\n",
        "    input_lyrics += ' ' + output_word\n",
        "  return input_lyrics"
      ],
      "metadata": {
        "id": "C3_52mTbojhh"
      },
      "execution_count": 55,
      "outputs": []
    },
    {
      "cell_type": "code",
      "source": [
        "lyrics[0]"
      ],
      "metadata": {
        "colab": {
          "base_uri": "https://localhost:8080/",
          "height": 120
        },
        "id": "VDvVQVlutDhZ",
        "outputId": "89cfebe5-0b97-4c2c-926e-ea7cf07c3d96"
      },
      "execution_count": 57,
      "outputs": [
        {
          "output_type": "execute_result",
          "data": {
            "text/plain": [
              "\"post malone hahahahaha tank god ayy ayy post malone i've been fuckin' hoes and poppin' pillies man feel just like rockstar star ayy ayy all my brothers got that gas and they always be smokin' like rasta 'sta fuckin' with me call up on uzi and show up man them the shottas 'tas when my homies pull up on your block they make that thing go grrratatata ta pow pow pow ayy ayy post malone switch my whip came back in black i'm startin' sayin' rest in peace to bon scott scott ayy close that door we blowin' smoke she ask me light fire like i'm morrison 'son ayy act fool on stage prolly leave my fuckin' show in cop car car ayy shit was legendary threw tv out the window of the montage cocaine on the table liquor pourin' don't give damn dude your girlfriend is groupie she just tryna get in sayin' i'm with the band ayy ayy now she actin' outta pocket tryna grab up on my pants hundred bitches in my trailer say they ain't got man and they all brought friend yeah ayy ayy ayy post malone i've been fuckin' hoes and poppin' pillies man feel just like rockstar star ayy ayy all my brothers got that gas and they always be smokin' like rasta 'sta fuckin' with me call up on uzi and show up man them the shottas 'tas when my homies pull up on your block they make that thing go grrratatata ta pow pow pow savage i've been in the hills fuckin' superstars feelin' like popstar drankin' henny bad bitches jumpin' in the pool and they ain't got on no bra bra hit her from the back pullin' on her tracks and now she screamin' out no más yeah yeah yeah they like savage why you got car garage and you only got six cars ain't with the cakin' how you kiss that kiss that your wifey say i'm lookin' like whole snack big snack green hundreds in my safe got old racks old racks la bitches always askin' where the coke at livin' like rockstar smash out on cop car sweeter than poptart you know you are not hard done made the hot chart 'member used to trap hard livin' like rockstar i'm livin' like rockstar ayy post malone savage i've been fuckin' hoes and poppin' pillies man feel just like rockstar star ayy ayy all my brothers got that gas and they always be smokin' like rasta 'sta yeah yeah yeah yeah fuckin' with me call up on uzi and show up man them the shottas 'tas when my homies pull up on your block they make that thing go grrratatata ta grrratatatata post malone star star rockstar rockstar star rockstar rockstar feel just like rock rockstar rockstar rockstar feel just like\""
            ],
            "application/vnd.google.colaboratory.intrinsic+json": {
              "type": "string"
            }
          },
          "metadata": {},
          "execution_count": 57
        }
      ]
    },
    {
      "cell_type": "code",
      "source": [
        "print(generate_lyrics(\"i'm morrison 'son ayy act fool\", tokenizer, max_len))"
      ],
      "metadata": {
        "colab": {
          "base_uri": "https://localhost:8080/"
        },
        "id": "zkCrNAzvuTdI",
        "outputId": "1dddc993-4395-4dbb-859c-77ff04cb4f33"
      },
      "execution_count": 58,
      "outputs": [
        {
          "output_type": "stream",
          "name": "stdout",
          "text": [
            "i'm morrison 'son ayy act fool all the time to get the clothe of the top just just wanna go in my belly though like an one keep one one was sucker on the top top top top one and happens and i'm trust at the whip but my bitch is happens like you don't answer it don't listen to see me but you call me call me up in my trunk that ain't be like you got my bed no still still want no listen to me no relief can't even what you want that don't drive away don't drive away don't want no romancin'\n"
          ]
        }
      ]
    }
  ]
}