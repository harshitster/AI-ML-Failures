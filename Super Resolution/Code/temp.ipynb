{
 "cells": [
  {
   "cell_type": "code",
   "execution_count": 8,
   "metadata": {},
   "outputs": [],
   "source": [
    "import numpy as np\n",
    "from glob import glob\n",
    "import tensorflow as tf\n",
    "from tqdm import tqdm"
   ]
  },
  {
   "cell_type": "code",
   "execution_count": 44,
   "metadata": {},
   "outputs": [],
   "source": [
    "temp = glob('/Applications/ML projects/Failures/Super Resolution/low res/*')\n",
    "temph = glob('/Applications/ML projects/Failures/Super Resolution/high res/*')"
   ]
  },
  {
   "cell_type": "code",
   "execution_count": 6,
   "metadata": {},
   "outputs": [],
   "source": [
    "_2 = []\n",
    "_4 = []\n",
    "_6 = []"
   ]
  },
  {
   "cell_type": "code",
   "execution_count": 9,
   "metadata": {},
   "outputs": [
    {
     "name": "stderr",
     "output_type": "stream",
     "text": [
      "100%|██████████| 3762/3762 [00:00<00:00, 793631.01it/s]\n"
     ]
    }
   ],
   "source": [
    "for file in tqdm(temp):\n",
    "    t1 = file.split('/')[-1]\n",
    "    t2 = t1.split('_')[-1]\n",
    "    if t2 == '2.jpg':\n",
    "        _2.append(file)\n",
    "    elif t2 == '4.jpg':\n",
    "        _4.append(file)\n",
    "    elif t2 == '6.jpg':\n",
    "        _6.append(file)"
   ]
  },
  {
   "cell_type": "code",
   "execution_count": 10,
   "metadata": {},
   "outputs": [
    {
     "data": {
      "text/plain": [
       "['/Applications/ML projects/Failures/Super Resolution/low res/825_2.jpg',\n",
       " '/Applications/ML projects/Failures/Super Resolution/low res/860_2.jpg',\n",
       " '/Applications/ML projects/Failures/Super Resolution/low res/367_2.jpg',\n",
       " '/Applications/ML projects/Failures/Super Resolution/low res/322_2.jpg',\n",
       " '/Applications/ML projects/Failures/Super Resolution/low res/91_2.jpg']"
      ]
     },
     "execution_count": 10,
     "metadata": {},
     "output_type": "execute_result"
    }
   ],
   "source": [
    "_2[:5]"
   ]
  },
  {
   "cell_type": "code",
   "execution_count": 11,
   "metadata": {},
   "outputs": [
    {
     "data": {
      "text/plain": [
       "['/Applications/ML projects/Failures/Super Resolution/low res/1000_2.jpg',\n",
       " '/Applications/ML projects/Failures/Super Resolution/low res/1001_2.jpg',\n",
       " '/Applications/ML projects/Failures/Super Resolution/low res/1002_2.jpg',\n",
       " '/Applications/ML projects/Failures/Super Resolution/low res/1003_2.jpg',\n",
       " '/Applications/ML projects/Failures/Super Resolution/low res/1004_2.jpg']"
      ]
     },
     "execution_count": 11,
     "metadata": {},
     "output_type": "execute_result"
    }
   ],
   "source": [
    "sorted(_2)[:5]"
   ]
  },
  {
   "cell_type": "code",
   "execution_count": 12,
   "metadata": {},
   "outputs": [
    {
     "data": {
      "text/plain": [
       "['/Applications/ML projects/Failures/Super Resolution/low res/1000_4.jpg',\n",
       " '/Applications/ML projects/Failures/Super Resolution/low res/1001_4.jpg',\n",
       " '/Applications/ML projects/Failures/Super Resolution/low res/1002_4.jpg',\n",
       " '/Applications/ML projects/Failures/Super Resolution/low res/1003_4.jpg',\n",
       " '/Applications/ML projects/Failures/Super Resolution/low res/1004_4.jpg']"
      ]
     },
     "execution_count": 12,
     "metadata": {},
     "output_type": "execute_result"
    }
   ],
   "source": [
    "sorted(_4)[:5]"
   ]
  },
  {
   "cell_type": "code",
   "execution_count": 13,
   "metadata": {},
   "outputs": [
    {
     "data": {
      "text/plain": [
       "['/Applications/ML projects/Failures/Super Resolution/low res/1000_6.jpg',\n",
       " '/Applications/ML projects/Failures/Super Resolution/low res/1001_6.jpg',\n",
       " '/Applications/ML projects/Failures/Super Resolution/low res/1002_6.jpg',\n",
       " '/Applications/ML projects/Failures/Super Resolution/low res/1003_6.jpg',\n",
       " '/Applications/ML projects/Failures/Super Resolution/low res/1004_6.jpg']"
      ]
     },
     "execution_count": 13,
     "metadata": {},
     "output_type": "execute_result"
    }
   ],
   "source": [
    "sorted(_6)[:5]"
   ]
  },
  {
   "cell_type": "code",
   "execution_count": 14,
   "metadata": {},
   "outputs": [
    {
     "name": "stdout",
     "output_type": "stream",
     "text": [
      "1254 1254 1254\n"
     ]
    }
   ],
   "source": [
    "print(len(_2), len(_4), len(_6))"
   ]
  },
  {
   "cell_type": "code",
   "execution_count": 25,
   "metadata": {},
   "outputs": [],
   "source": [
    "_2 = sorted(_2)\n",
    "_4 = sorted(_4)\n",
    "_6 = sorted(_6)"
   ]
  },
  {
   "cell_type": "code",
   "execution_count": 26,
   "metadata": {},
   "outputs": [
    {
     "data": {
      "text/plain": [
       "'/Applications/ML projects/Failures/Super Resolution/low res/660_2.jpg'"
      ]
     },
     "execution_count": 26,
     "metadata": {},
     "output_type": "execute_result"
    }
   ],
   "source": [
    "_2[876]"
   ]
  },
  {
   "cell_type": "code",
   "execution_count": 27,
   "metadata": {},
   "outputs": [
    {
     "data": {
      "text/plain": [
       "'/Applications/ML projects/Failures/Super Resolution/low res/660_4.jpg'"
      ]
     },
     "execution_count": 27,
     "metadata": {},
     "output_type": "execute_result"
    }
   ],
   "source": [
    "_4[876]"
   ]
  },
  {
   "cell_type": "code",
   "execution_count": 28,
   "metadata": {},
   "outputs": [
    {
     "data": {
      "text/plain": [
       "'/Applications/ML projects/Failures/Super Resolution/low res/660_6.jpg'"
      ]
     },
     "execution_count": 28,
     "metadata": {},
     "output_type": "execute_result"
    }
   ],
   "source": [
    "_6[876]"
   ]
  },
  {
   "cell_type": "code",
   "execution_count": 29,
   "metadata": {},
   "outputs": [
    {
     "name": "stdout",
     "output_type": "stream",
     "text": [
      "True\n"
     ]
    }
   ],
   "source": [
    "print(_2[876].split('_')[0] == _4[876].split('_')[0] == _6[876].split('_')[0])"
   ]
  },
  {
   "cell_type": "code",
   "execution_count": 30,
   "metadata": {},
   "outputs": [],
   "source": [
    "def helper(_2, _4, _6):\n",
    "    for i in range(len(_2)):\n",
    "        if _2[i].split('_')[0] == _4[i].split('_')[0] == _6[i].split('_')[0]:\n",
    "            continue\n",
    "        else:\n",
    "            return 0\n",
    "    return 1"
   ]
  },
  {
   "cell_type": "code",
   "execution_count": 31,
   "metadata": {},
   "outputs": [
    {
     "name": "stdout",
     "output_type": "stream",
     "text": [
      "1\n"
     ]
    }
   ],
   "source": [
    "print(helper(_2, _4, _6))"
   ]
  },
  {
   "cell_type": "code",
   "execution_count": 33,
   "metadata": {},
   "outputs": [],
   "source": [
    "SIZE = 128"
   ]
  },
  {
   "cell_type": "code",
   "execution_count": 43,
   "metadata": {},
   "outputs": [],
   "source": [
    "image_string = tf.io.read_file(_2[0])\n",
    "image_tensor = tf.image.decode_jpeg(image_string, channels=3)\n",
    "resized_tensor = tf.image.resize(image_tensor, [SIZE, SIZE])\n",
    "resized_tensor = tf.expand_dims(resized_tensor, axis=0)\n",
    "resized_tensor = tf.cast(resized_tensor, dtype=tf.float32) / 255.0"
   ]
  },
  {
   "cell_type": "code",
   "execution_count": 41,
   "metadata": {},
   "outputs": [
    {
     "data": {
      "text/plain": [
       "TensorShape([1, 128, 128, 3])"
      ]
     },
     "execution_count": 41,
     "metadata": {},
     "output_type": "execute_result"
    }
   ],
   "source": [
    "resized_tensor.shape"
   ]
  },
  {
   "cell_type": "code",
   "execution_count": 47,
   "metadata": {},
   "outputs": [
    {
     "data": {
      "text/plain": [
       "'/Applications/ML projects/Failures/Super Resolution/high res/659.jpg'"
      ]
     },
     "execution_count": 47,
     "metadata": {},
     "output_type": "execute_result"
    }
   ],
   "source": [
    "temph = sorted(temph)\n",
    "temph[875]"
   ]
  },
  {
   "cell_type": "code",
   "execution_count": 65,
   "metadata": {},
   "outputs": [
    {
     "data": {
      "text/plain": [
       "'/Applications/ML projects/Failures/Super Resolution/low res/65_2.jpg'"
      ]
     },
     "execution_count": 65,
     "metadata": {},
     "output_type": "execute_result"
    }
   ],
   "source": [
    "_2[875]"
   ]
  },
  {
   "cell_type": "code",
   "execution_count": 66,
   "metadata": {},
   "outputs": [
    {
     "data": {
      "text/plain": [
       "'/Applications/ML projects/Failures/Super Resolution/low res/65_4.jpg'"
      ]
     },
     "execution_count": 66,
     "metadata": {},
     "output_type": "execute_result"
    }
   ],
   "source": [
    "_4[875]"
   ]
  },
  {
   "cell_type": "code",
   "execution_count": 76,
   "metadata": {},
   "outputs": [],
   "source": [
    "h = []\n",
    "for file in _2:\n",
    "    t1 = file.split('/')[-1]\n",
    "    t2 = t1.split('_')[0]\n",
    "    for hfile in temph:\n",
    "        t3 = hfile.split('/')[-1]\n",
    "        t4 = t3.split('.')[0]\n",
    "        if t4 == t2:\n",
    "            h.append(hfile)"
   ]
  },
  {
   "cell_type": "code",
   "execution_count": 77,
   "metadata": {},
   "outputs": [
    {
     "data": {
      "text/plain": [
       "1254"
      ]
     },
     "execution_count": 77,
     "metadata": {},
     "output_type": "execute_result"
    }
   ],
   "source": [
    "len(h)"
   ]
  },
  {
   "cell_type": "code",
   "execution_count": 78,
   "metadata": {},
   "outputs": [
    {
     "data": {
      "text/plain": [
       "'/Applications/ML projects/Failures/Super Resolution/high res/65.jpg'"
      ]
     },
     "execution_count": 78,
     "metadata": {},
     "output_type": "execute_result"
    }
   ],
   "source": [
    "h[875]"
   ]
  },
  {
   "cell_type": "code",
   "execution_count": 79,
   "metadata": {},
   "outputs": [
    {
     "data": {
      "text/plain": [
       "'/Applications/ML projects/Failures/Super Resolution/low res/65_2.jpg'"
      ]
     },
     "execution_count": 79,
     "metadata": {},
     "output_type": "execute_result"
    }
   ],
   "source": [
    "_2[875]"
   ]
  },
  {
   "cell_type": "code",
   "execution_count": 80,
   "metadata": {},
   "outputs": [
    {
     "data": {
      "text/plain": [
       "'/Applications/ML projects/Failures/Super Resolution/low res/65_4.jpg'"
      ]
     },
     "execution_count": 80,
     "metadata": {},
     "output_type": "execute_result"
    }
   ],
   "source": [
    "_4[875]"
   ]
  },
  {
   "cell_type": "code",
   "execution_count": 81,
   "metadata": {},
   "outputs": [
    {
     "data": {
      "text/plain": [
       "'/Applications/ML projects/Failures/Super Resolution/low res/65_6.jpg'"
      ]
     },
     "execution_count": 81,
     "metadata": {},
     "output_type": "execute_result"
    }
   ],
   "source": [
    "_6[875]"
   ]
  },
  {
   "cell_type": "code",
   "execution_count": null,
   "metadata": {},
   "outputs": [],
   "source": []
  }
 ],
 "metadata": {
  "kernelspec": {
   "display_name": "Python 3",
   "language": "python",
   "name": "python3"
  },
  "language_info": {
   "codemirror_mode": {
    "name": "ipython",
    "version": 3
   },
   "file_extension": ".py",
   "mimetype": "text/x-python",
   "name": "python",
   "nbconvert_exporter": "python",
   "pygments_lexer": "ipython3",
   "version": "3.10.3"
  },
  "orig_nbformat": 4
 },
 "nbformat": 4,
 "nbformat_minor": 2
}
